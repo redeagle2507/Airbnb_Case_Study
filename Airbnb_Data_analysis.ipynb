{
 "cells": [
  {
   "cell_type": "markdown",
   "id": "74c707e6-14c3-49f9-8afa-8daa46141fa2",
   "metadata": {},
   "source": [
    "## Importing libraries"
   ]
  },
  {
   "cell_type": "code",
   "execution_count": 1,
   "id": "cb321d29-d600-452a-b9ec-3ee35e9d35d0",
   "metadata": {},
   "outputs": [],
   "source": [
    "import pandas as pd\n",
    "import sqlalchemy as db\n",
    "import matplotlib.pyplot as plt\n",
    "%matplotlib inline"
   ]
  },
  {
   "cell_type": "markdown",
   "id": "5ae18641-983a-4b3c-a1f5-b7d059fd673f",
   "metadata": {},
   "source": [
    "### Importing data from shared database"
   ]
  },
  {
   "cell_type": "code",
   "execution_count": 2,
   "id": "940f852c-db7f-4baf-a878-a8d2b6615c61",
   "metadata": {},
   "outputs": [],
   "source": [
    "engine = db.create_engine('sqlite:///airbnb.db')\n",
    "connection = engine.connect()"
   ]
  },
  {
   "cell_type": "code",
   "execution_count": 3,
   "id": "3a94feb3-ddc2-493e-b724-375bea7d00dc",
   "metadata": {},
   "outputs": [],
   "source": [
    "Cal_df= pd.read_sql_table('Calendar',engine)\n",
    "list_df= pd.read_sql_table('Listings',engine)\n",
    "host_df= pd.read_sql_table('Hosts',engine)\n",
    "Review_df= pd.read_sql_table('Reviews',engine)"
   ]
  },
  {
   "cell_type": "markdown",
   "id": "c6f2700b-b796-4b3e-a1ab-4984974196bb",
   "metadata": {},
   "source": [
    "# Data Understanding and feature creation"
   ]
  },
  {
   "cell_type": "markdown",
   "id": "4f79b0c9-e959-48ba-b3ec-ccbff08a1efe",
   "metadata": {},
   "source": [
    "## Calendar table"
   ]
  },
  {
   "cell_type": "code",
   "execution_count": 4,
   "id": "3571b603-60e8-4528-8a93-1e032ee161e3",
   "metadata": {},
   "outputs": [
    {
     "data": {
      "text/html": [
       "<div>\n",
       "<style scoped>\n",
       "    .dataframe tbody tr th:only-of-type {\n",
       "        vertical-align: middle;\n",
       "    }\n",
       "\n",
       "    .dataframe tbody tr th {\n",
       "        vertical-align: top;\n",
       "    }\n",
       "\n",
       "    .dataframe thead th {\n",
       "        text-align: right;\n",
       "    }\n",
       "</style>\n",
       "<table border=\"1\" class=\"dataframe\">\n",
       "  <thead>\n",
       "    <tr style=\"text-align: right;\">\n",
       "      <th></th>\n",
       "      <th>calender_id</th>\n",
       "      <th>listing_id</th>\n",
       "      <th>date</th>\n",
       "      <th>available</th>\n",
       "      <th>price</th>\n",
       "      <th>adjusted_price</th>\n",
       "      <th>minimum_nights</th>\n",
       "      <th>maximum_nights</th>\n",
       "    </tr>\n",
       "  </thead>\n",
       "  <tbody>\n",
       "    <tr>\n",
       "      <th>0</th>\n",
       "      <td>1</td>\n",
       "      <td>40334325</td>\n",
       "      <td>2022-08-03</td>\n",
       "      <td>False</td>\n",
       "      <td>56.0</td>\n",
       "      <td>56.0</td>\n",
       "      <td>3</td>\n",
       "      <td>5</td>\n",
       "    </tr>\n",
       "    <tr>\n",
       "      <th>1</th>\n",
       "      <td>2</td>\n",
       "      <td>22742449</td>\n",
       "      <td>2022-11-13</td>\n",
       "      <td>True</td>\n",
       "      <td>95.0</td>\n",
       "      <td>95.0</td>\n",
       "      <td>2</td>\n",
       "      <td>99</td>\n",
       "    </tr>\n",
       "    <tr>\n",
       "      <th>2</th>\n",
       "      <td>3</td>\n",
       "      <td>34621717</td>\n",
       "      <td>2022-04-17</td>\n",
       "      <td>False</td>\n",
       "      <td>75.0</td>\n",
       "      <td>75.0</td>\n",
       "      <td>2</td>\n",
       "      <td>1125</td>\n",
       "    </tr>\n",
       "    <tr>\n",
       "      <th>3</th>\n",
       "      <td>4</td>\n",
       "      <td>38281744</td>\n",
       "      <td>2022-01-31</td>\n",
       "      <td>True</td>\n",
       "      <td>150.0</td>\n",
       "      <td>150.0</td>\n",
       "      <td>1</td>\n",
       "      <td>1000</td>\n",
       "    </tr>\n",
       "    <tr>\n",
       "      <th>4</th>\n",
       "      <td>5</td>\n",
       "      <td>18835003</td>\n",
       "      <td>2022-05-21</td>\n",
       "      <td>False</td>\n",
       "      <td>100.0</td>\n",
       "      <td>100.0</td>\n",
       "      <td>2</td>\n",
       "      <td>1125</td>\n",
       "    </tr>\n",
       "    <tr>\n",
       "      <th>...</th>\n",
       "      <td>...</td>\n",
       "      <td>...</td>\n",
       "      <td>...</td>\n",
       "      <td>...</td>\n",
       "      <td>...</td>\n",
       "      <td>...</td>\n",
       "      <td>...</td>\n",
       "      <td>...</td>\n",
       "    </tr>\n",
       "    <tr>\n",
       "      <th>319187</th>\n",
       "      <td>319188</td>\n",
       "      <td>52729945</td>\n",
       "      <td>2022-07-06</td>\n",
       "      <td>True</td>\n",
       "      <td>64.0</td>\n",
       "      <td>64.0</td>\n",
       "      <td>1</td>\n",
       "      <td>10</td>\n",
       "    </tr>\n",
       "    <tr>\n",
       "      <th>319188</th>\n",
       "      <td>319189</td>\n",
       "      <td>36953202</td>\n",
       "      <td>2022-07-08</td>\n",
       "      <td>False</td>\n",
       "      <td>140.0</td>\n",
       "      <td>140.0</td>\n",
       "      <td>3</td>\n",
       "      <td>1125</td>\n",
       "    </tr>\n",
       "    <tr>\n",
       "      <th>319189</th>\n",
       "      <td>319190</td>\n",
       "      <td>39580214</td>\n",
       "      <td>2022-06-13</td>\n",
       "      <td>True</td>\n",
       "      <td>49.0</td>\n",
       "      <td>49.0</td>\n",
       "      <td>1</td>\n",
       "      <td>13</td>\n",
       "    </tr>\n",
       "    <tr>\n",
       "      <th>319190</th>\n",
       "      <td>319191</td>\n",
       "      <td>49016014</td>\n",
       "      <td>2022-10-26</td>\n",
       "      <td>False</td>\n",
       "      <td>60.0</td>\n",
       "      <td>60.0</td>\n",
       "      <td>2</td>\n",
       "      <td>30</td>\n",
       "    </tr>\n",
       "    <tr>\n",
       "      <th>319191</th>\n",
       "      <td>319192</td>\n",
       "      <td>31438714</td>\n",
       "      <td>2022-06-12</td>\n",
       "      <td>False</td>\n",
       "      <td>104.0</td>\n",
       "      <td>104.0</td>\n",
       "      <td>2</td>\n",
       "      <td>1125</td>\n",
       "    </tr>\n",
       "  </tbody>\n",
       "</table>\n",
       "<p>319192 rows × 8 columns</p>\n",
       "</div>"
      ],
      "text/plain": [
       "        calender_id  listing_id       date  available  price  adjusted_price  \\\n",
       "0                 1    40334325 2022-08-03      False   56.0            56.0   \n",
       "1                 2    22742449 2022-11-13       True   95.0            95.0   \n",
       "2                 3    34621717 2022-04-17      False   75.0            75.0   \n",
       "3                 4    38281744 2022-01-31       True  150.0           150.0   \n",
       "4                 5    18835003 2022-05-21      False  100.0           100.0   \n",
       "...             ...         ...        ...        ...    ...             ...   \n",
       "319187       319188    52729945 2022-07-06       True   64.0            64.0   \n",
       "319188       319189    36953202 2022-07-08      False  140.0           140.0   \n",
       "319189       319190    39580214 2022-06-13       True   49.0            49.0   \n",
       "319190       319191    49016014 2022-10-26      False   60.0            60.0   \n",
       "319191       319192    31438714 2022-06-12      False  104.0           104.0   \n",
       "\n",
       "        minimum_nights  maximum_nights  \n",
       "0                    3               5  \n",
       "1                    2              99  \n",
       "2                    2            1125  \n",
       "3                    1            1000  \n",
       "4                    2            1125  \n",
       "...                ...             ...  \n",
       "319187               1              10  \n",
       "319188               3            1125  \n",
       "319189               1              13  \n",
       "319190               2              30  \n",
       "319191               2            1125  \n",
       "\n",
       "[319192 rows x 8 columns]"
      ]
     },
     "execution_count": 4,
     "metadata": {},
     "output_type": "execute_result"
    }
   ],
   "source": [
    "Cal_df"
   ]
  },
  {
   "cell_type": "code",
   "execution_count": 5,
   "id": "5a4146e0-64c9-47df-9f96-bc1177017090",
   "metadata": {},
   "outputs": [
    {
     "data": {
      "text/html": [
       "<div>\n",
       "<style scoped>\n",
       "    .dataframe tbody tr th:only-of-type {\n",
       "        vertical-align: middle;\n",
       "    }\n",
       "\n",
       "    .dataframe tbody tr th {\n",
       "        vertical-align: top;\n",
       "    }\n",
       "\n",
       "    .dataframe thead th {\n",
       "        text-align: right;\n",
       "    }\n",
       "</style>\n",
       "<table border=\"1\" class=\"dataframe\">\n",
       "  <thead>\n",
       "    <tr style=\"text-align: right;\">\n",
       "      <th></th>\n",
       "      <th>calender_id</th>\n",
       "      <th>listing_id</th>\n",
       "      <th>date</th>\n",
       "      <th>available</th>\n",
       "      <th>price</th>\n",
       "      <th>adjusted_price</th>\n",
       "      <th>minimum_nights</th>\n",
       "      <th>maximum_nights</th>\n",
       "    </tr>\n",
       "  </thead>\n",
       "  <tbody>\n",
       "    <tr>\n",
       "      <th>0</th>\n",
       "      <td>1</td>\n",
       "      <td>40334325</td>\n",
       "      <td>2022-08-03</td>\n",
       "      <td>False</td>\n",
       "      <td>56.0</td>\n",
       "      <td>56.0</td>\n",
       "      <td>3</td>\n",
       "      <td>5</td>\n",
       "    </tr>\n",
       "    <tr>\n",
       "      <th>1</th>\n",
       "      <td>2</td>\n",
       "      <td>22742449</td>\n",
       "      <td>2022-11-13</td>\n",
       "      <td>True</td>\n",
       "      <td>95.0</td>\n",
       "      <td>95.0</td>\n",
       "      <td>2</td>\n",
       "      <td>99</td>\n",
       "    </tr>\n",
       "    <tr>\n",
       "      <th>2</th>\n",
       "      <td>3</td>\n",
       "      <td>34621717</td>\n",
       "      <td>2022-04-17</td>\n",
       "      <td>False</td>\n",
       "      <td>75.0</td>\n",
       "      <td>75.0</td>\n",
       "      <td>2</td>\n",
       "      <td>1125</td>\n",
       "    </tr>\n",
       "    <tr>\n",
       "      <th>3</th>\n",
       "      <td>4</td>\n",
       "      <td>38281744</td>\n",
       "      <td>2022-01-31</td>\n",
       "      <td>True</td>\n",
       "      <td>150.0</td>\n",
       "      <td>150.0</td>\n",
       "      <td>1</td>\n",
       "      <td>1000</td>\n",
       "    </tr>\n",
       "    <tr>\n",
       "      <th>4</th>\n",
       "      <td>5</td>\n",
       "      <td>18835003</td>\n",
       "      <td>2022-05-21</td>\n",
       "      <td>False</td>\n",
       "      <td>100.0</td>\n",
       "      <td>100.0</td>\n",
       "      <td>2</td>\n",
       "      <td>1125</td>\n",
       "    </tr>\n",
       "  </tbody>\n",
       "</table>\n",
       "</div>"
      ],
      "text/plain": [
       "   calender_id  listing_id       date  available  price  adjusted_price  \\\n",
       "0            1    40334325 2022-08-03      False   56.0            56.0   \n",
       "1            2    22742449 2022-11-13       True   95.0            95.0   \n",
       "2            3    34621717 2022-04-17      False   75.0            75.0   \n",
       "3            4    38281744 2022-01-31       True  150.0           150.0   \n",
       "4            5    18835003 2022-05-21      False  100.0           100.0   \n",
       "\n",
       "   minimum_nights  maximum_nights  \n",
       "0               3               5  \n",
       "1               2              99  \n",
       "2               2            1125  \n",
       "3               1            1000  \n",
       "4               2            1125  "
      ]
     },
     "execution_count": 5,
     "metadata": {},
     "output_type": "execute_result"
    }
   ],
   "source": [
    "Cal_df.head()"
   ]
  },
  {
   "cell_type": "code",
   "execution_count": 6,
   "id": "ed2aed82-ebc2-45b6-b824-b8e40256a749",
   "metadata": {},
   "outputs": [
    {
     "data": {
      "text/plain": [
       "<AxesSubplot:>"
      ]
     },
     "execution_count": 6,
     "metadata": {},
     "output_type": "execute_result"
    },
    {
     "data": {
      "image/png": "[encoded data removed]",
      "text/plain": [
       "<Figure size 432x288 with 1 Axes>"
      ]
     },
     "metadata": {
      "needs_background": "light"
     },
     "output_type": "display_data"
    }
   ],
   "source": [
    "Cal_df.isna().sum().plot(kind = 'bar')"
   ]
  },
  {
   "cell_type": "code",
   "execution_count": 7,
   "id": "f65614ac-b682-47bd-8f6d-45f442c5f6c4",
   "metadata": {},
   "outputs": [
    {
     "name": "stdout",
     "output_type": "stream",
     "text": [
      "<class 'pandas.core.frame.DataFrame'>\n",
      "RangeIndex: 319192 entries, 0 to 319191\n",
      "Data columns (total 8 columns):\n",
      " #   Column          Non-Null Count   Dtype         \n",
      "---  ------          --------------   -----         \n",
      " 0   calender_id     319192 non-null  int64         \n",
      " 1   listing_id      319192 non-null  int64         \n",
      " 2   date            319192 non-null  datetime64[ns]\n",
      " 3   available       319192 non-null  bool          \n",
      " 4   price           319117 non-null  float64       \n",
      " 5   adjusted_price  319117 non-null  float64       \n",
      " 6   minimum_nights  319192 non-null  int64         \n",
      " 7   maximum_nights  319192 non-null  int64         \n",
      "dtypes: bool(1), datetime64[ns](1), float64(2), int64(4)\n",
      "memory usage: 17.4 MB\n"
     ]
    }
   ],
   "source": [
    "Cal_df.info()"
   ]
  },
  {
   "cell_type": "code",
   "execution_count": 8,
   "id": "6b469014-b1f2-4e4c-84cb-6b73f10c2ecd",
   "metadata": {},
   "outputs": [
    {
     "data": {
      "text/plain": [
       "1749"
      ]
     },
     "execution_count": 8,
     "metadata": {},
     "output_type": "execute_result"
    }
   ],
   "source": [
    "Cal_df['listing_id'].nunique()"
   ]
  },
  {
   "cell_type": "markdown",
   "id": "d03d5bba-f5bd-4fb6-bd1f-a5215ad53647",
   "metadata": {},
   "source": [
    "### Analysis"
   ]
  },
  {
   "cell_type": "markdown",
   "id": "048e77b2-c044-48da-b431-de11e5c1a602",
   "metadata": {},
   "source": [
    "###### We only have 1749 unique values in the calendar table. However, there is a possiblity that a single listing can have modificiations in the price column multiple times. To avoid overfitting of the model, we can modify the price data by taking the mean value to ensure that we single value mapping to an individual listing id."
   ]
  },
  {
   "cell_type": "code",
   "execution_count": 9,
   "id": "7bd3c786-ab59-4328-ad65-274829030378",
   "metadata": {},
   "outputs": [
    {
     "data": {
      "text/html": [
       "<div>\n",
       "<style scoped>\n",
       "    .dataframe tbody tr th:only-of-type {\n",
       "        vertical-align: middle;\n",
       "    }\n",
       "\n",
       "    .dataframe tbody tr th {\n",
       "        vertical-align: top;\n",
       "    }\n",
       "\n",
       "    .dataframe thead th {\n",
       "        text-align: right;\n",
       "    }\n",
       "</style>\n",
       "<table border=\"1\" class=\"dataframe\">\n",
       "  <thead>\n",
       "    <tr style=\"text-align: right;\">\n",
       "      <th></th>\n",
       "      <th>calender_id</th>\n",
       "      <th>available</th>\n",
       "      <th>price</th>\n",
       "      <th>adjusted_price</th>\n",
       "      <th>minimum_nights</th>\n",
       "      <th>maximum_nights</th>\n",
       "    </tr>\n",
       "    <tr>\n",
       "      <th>listing_id</th>\n",
       "      <th></th>\n",
       "      <th></th>\n",
       "      <th></th>\n",
       "      <th></th>\n",
       "      <th></th>\n",
       "      <th></th>\n",
       "    </tr>\n",
       "  </thead>\n",
       "  <tbody>\n",
       "    <tr>\n",
       "      <th>50904</th>\n",
       "      <td>167467.31</td>\n",
       "      <td>0.73</td>\n",
       "      <td>165.33</td>\n",
       "      <td>160.24</td>\n",
       "      <td>1.0</td>\n",
       "      <td>60.0</td>\n",
       "    </tr>\n",
       "    <tr>\n",
       "      <th>116134</th>\n",
       "      <td>160630.43</td>\n",
       "      <td>0.81</td>\n",
       "      <td>150.00</td>\n",
       "      <td>150.00</td>\n",
       "      <td>2.0</td>\n",
       "      <td>1125.0</td>\n",
       "    </tr>\n",
       "    <tr>\n",
       "      <th>218916</th>\n",
       "      <td>168487.05</td>\n",
       "      <td>0.00</td>\n",
       "      <td>85.00</td>\n",
       "      <td>85.00</td>\n",
       "      <td>1.0</td>\n",
       "      <td>50.0</td>\n",
       "    </tr>\n",
       "    <tr>\n",
       "      <th>224333</th>\n",
       "      <td>162076.88</td>\n",
       "      <td>0.93</td>\n",
       "      <td>16.00</td>\n",
       "      <td>16.00</td>\n",
       "      <td>14.0</td>\n",
       "      <td>365.0</td>\n",
       "    </tr>\n",
       "    <tr>\n",
       "      <th>224682</th>\n",
       "      <td>154916.49</td>\n",
       "      <td>0.85</td>\n",
       "      <td>87.27</td>\n",
       "      <td>87.27</td>\n",
       "      <td>2.0</td>\n",
       "      <td>30.0</td>\n",
       "    </tr>\n",
       "    <tr>\n",
       "      <th>...</th>\n",
       "      <td>...</td>\n",
       "      <td>...</td>\n",
       "      <td>...</td>\n",
       "      <td>...</td>\n",
       "      <td>...</td>\n",
       "      <td>...</td>\n",
       "    </tr>\n",
       "    <tr>\n",
       "      <th>53916524</th>\n",
       "      <td>162814.81</td>\n",
       "      <td>0.94</td>\n",
       "      <td>88.00</td>\n",
       "      <td>88.00</td>\n",
       "      <td>3.0</td>\n",
       "      <td>365.0</td>\n",
       "    </tr>\n",
       "    <tr>\n",
       "      <th>53928545</th>\n",
       "      <td>145458.25</td>\n",
       "      <td>1.00</td>\n",
       "      <td>49.00</td>\n",
       "      <td>49.00</td>\n",
       "      <td>20.0</td>\n",
       "      <td>1125.0</td>\n",
       "    </tr>\n",
       "    <tr>\n",
       "      <th>53929354</th>\n",
       "      <td>165054.62</td>\n",
       "      <td>0.99</td>\n",
       "      <td>90.00</td>\n",
       "      <td>90.00</td>\n",
       "      <td>1.0</td>\n",
       "      <td>365.0</td>\n",
       "    </tr>\n",
       "    <tr>\n",
       "      <th>53949105</th>\n",
       "      <td>154555.36</td>\n",
       "      <td>0.85</td>\n",
       "      <td>990.00</td>\n",
       "      <td>990.00</td>\n",
       "      <td>2.0</td>\n",
       "      <td>1125.0</td>\n",
       "    </tr>\n",
       "    <tr>\n",
       "      <th>53983318</th>\n",
       "      <td>164151.27</td>\n",
       "      <td>0.99</td>\n",
       "      <td>150.00</td>\n",
       "      <td>150.00</td>\n",
       "      <td>3.0</td>\n",
       "      <td>365.0</td>\n",
       "    </tr>\n",
       "  </tbody>\n",
       "</table>\n",
       "<p>1749 rows × 6 columns</p>\n",
       "</div>"
      ],
      "text/plain": [
       "            calender_id  available   price  adjusted_price  minimum_nights  \\\n",
       "listing_id                                                                   \n",
       "50904         167467.31       0.73  165.33          160.24             1.0   \n",
       "116134        160630.43       0.81  150.00          150.00             2.0   \n",
       "218916        168487.05       0.00   85.00           85.00             1.0   \n",
       "224333        162076.88       0.93   16.00           16.00            14.0   \n",
       "224682        154916.49       0.85   87.27           87.27             2.0   \n",
       "...                 ...        ...     ...             ...             ...   \n",
       "53916524      162814.81       0.94   88.00           88.00             3.0   \n",
       "53928545      145458.25       1.00   49.00           49.00            20.0   \n",
       "53929354      165054.62       0.99   90.00           90.00             1.0   \n",
       "53949105      154555.36       0.85  990.00          990.00             2.0   \n",
       "53983318      164151.27       0.99  150.00          150.00             3.0   \n",
       "\n",
       "            maximum_nights  \n",
       "listing_id                  \n",
       "50904                 60.0  \n",
       "116134              1125.0  \n",
       "218916                50.0  \n",
       "224333               365.0  \n",
       "224682                30.0  \n",
       "...                    ...  \n",
       "53916524             365.0  \n",
       "53928545            1125.0  \n",
       "53929354             365.0  \n",
       "53949105            1125.0  \n",
       "53983318             365.0  \n",
       "\n",
       "[1749 rows x 6 columns]"
      ]
     },
     "execution_count": 9,
     "metadata": {},
     "output_type": "execute_result"
    }
   ],
   "source": [
    "Cal_df.groupby('listing_id').mean().round(2)"
   ]
  },
  {
   "cell_type": "markdown",
   "id": "e3a59cfe-1ee3-4a69-be1d-7cf1de270b74",
   "metadata": {},
   "source": [
    "#### Since the data updated at the begining of index may not be relevant at the end of table, we can consider mean for the last 3 months for feasibility."
   ]
  },
  {
   "cell_type": "code",
   "execution_count": 10,
   "id": "d7a8c828-e66c-428d-a859-e715bf4b4a68",
   "metadata": {},
   "outputs": [],
   "source": [
    "cal_df_latest = Cal_df.sort_values ('date').groupby('listing_id').tail(3)"
   ]
  },
  {
   "cell_type": "code",
   "execution_count": 11,
   "id": "08a946ab-d59f-4adf-a9e6-88a56b8a79a6",
   "metadata": {},
   "outputs": [
    {
     "data": {
      "text/html": [
       "<div>\n",
       "<style scoped>\n",
       "    .dataframe tbody tr th:only-of-type {\n",
       "        vertical-align: middle;\n",
       "    }\n",
       "\n",
       "    .dataframe tbody tr th {\n",
       "        vertical-align: top;\n",
       "    }\n",
       "\n",
       "    .dataframe thead th {\n",
       "        text-align: right;\n",
       "    }\n",
       "</style>\n",
       "<table border=\"1\" class=\"dataframe\">\n",
       "  <thead>\n",
       "    <tr style=\"text-align: right;\">\n",
       "      <th></th>\n",
       "      <th>calender_id</th>\n",
       "      <th>listing_id</th>\n",
       "      <th>date</th>\n",
       "      <th>available</th>\n",
       "      <th>price</th>\n",
       "      <th>adjusted_price</th>\n",
       "      <th>minimum_nights</th>\n",
       "      <th>maximum_nights</th>\n",
       "    </tr>\n",
       "  </thead>\n",
       "  <tbody>\n",
       "    <tr>\n",
       "      <th>277844</th>\n",
       "      <td>277845</td>\n",
       "      <td>33414044</td>\n",
       "      <td>2022-12-05</td>\n",
       "      <td>True</td>\n",
       "      <td>116.0</td>\n",
       "      <td>116.0</td>\n",
       "      <td>2</td>\n",
       "      <td>1125</td>\n",
       "    </tr>\n",
       "    <tr>\n",
       "      <th>21839</th>\n",
       "      <td>21840</td>\n",
       "      <td>33192413</td>\n",
       "      <td>2022-12-06</td>\n",
       "      <td>False</td>\n",
       "      <td>34.0</td>\n",
       "      <td>34.0</td>\n",
       "      <td>1</td>\n",
       "      <td>1125</td>\n",
       "    </tr>\n",
       "    <tr>\n",
       "      <th>312912</th>\n",
       "      <td>312913</td>\n",
       "      <td>33192413</td>\n",
       "      <td>2022-12-07</td>\n",
       "      <td>False</td>\n",
       "      <td>34.0</td>\n",
       "      <td>34.0</td>\n",
       "      <td>1</td>\n",
       "      <td>1125</td>\n",
       "    </tr>\n",
       "    <tr>\n",
       "      <th>217570</th>\n",
       "      <td>217571</td>\n",
       "      <td>33414044</td>\n",
       "      <td>2022-12-07</td>\n",
       "      <td>True</td>\n",
       "      <td>116.0</td>\n",
       "      <td>116.0</td>\n",
       "      <td>2</td>\n",
       "      <td>1125</td>\n",
       "    </tr>\n",
       "    <tr>\n",
       "      <th>171392</th>\n",
       "      <td>171393</td>\n",
       "      <td>33716554</td>\n",
       "      <td>2022-12-08</td>\n",
       "      <td>False</td>\n",
       "      <td>75.0</td>\n",
       "      <td>75.0</td>\n",
       "      <td>2</td>\n",
       "      <td>1125</td>\n",
       "    </tr>\n",
       "  </tbody>\n",
       "</table>\n",
       "</div>"
      ],
      "text/plain": [
       "        calender_id  listing_id       date  available  price  adjusted_price  \\\n",
       "277844       277845    33414044 2022-12-05       True  116.0           116.0   \n",
       "21839         21840    33192413 2022-12-06      False   34.0            34.0   \n",
       "312912       312913    33192413 2022-12-07      False   34.0            34.0   \n",
       "217570       217571    33414044 2022-12-07       True  116.0           116.0   \n",
       "171392       171393    33716554 2022-12-08      False   75.0            75.0   \n",
       "\n",
       "        minimum_nights  maximum_nights  \n",
       "277844               2            1125  \n",
       "21839                1            1125  \n",
       "312912               1            1125  \n",
       "217570               2            1125  \n",
       "171392               2            1125  "
      ]
     },
     "execution_count": 11,
     "metadata": {},
     "output_type": "execute_result"
    }
   ],
   "source": [
    "cal_df_latest.head()"
   ]
  },
  {
   "cell_type": "code",
   "execution_count": 12,
   "id": "1635db80-0aa5-44fa-8f9b-430bb2db877e",
   "metadata": {},
   "outputs": [
    {
     "name": "stdout",
     "output_type": "stream",
     "text": [
      "<class 'pandas.core.frame.DataFrame'>\n",
      "Int64Index: 5247 entries, 277844 to 314793\n",
      "Data columns (total 8 columns):\n",
      " #   Column          Non-Null Count  Dtype         \n",
      "---  ------          --------------  -----         \n",
      " 0   calender_id     5247 non-null   int64         \n",
      " 1   listing_id      5247 non-null   int64         \n",
      " 2   date            5247 non-null   datetime64[ns]\n",
      " 3   available       5247 non-null   bool          \n",
      " 4   price           5244 non-null   float64       \n",
      " 5   adjusted_price  5244 non-null   float64       \n",
      " 6   minimum_nights  5247 non-null   int64         \n",
      " 7   maximum_nights  5247 non-null   int64         \n",
      "dtypes: bool(1), datetime64[ns](1), float64(2), int64(4)\n",
      "memory usage: 333.1 KB\n"
     ]
    }
   ],
   "source": [
    "cal_df_latest.info()"
   ]
  },
  {
   "cell_type": "code",
   "execution_count": 13,
   "id": "6a2a9468-7860-47c3-b731-be99e64fa868",
   "metadata": {},
   "outputs": [
    {
     "data": {
      "text/plain": [
       "calender_id       0\n",
       "listing_id        0\n",
       "date              0\n",
       "available         0\n",
       "price             3\n",
       "adjusted_price    3\n",
       "minimum_nights    0\n",
       "maximum_nights    0\n",
       "dtype: int64"
      ]
     },
     "execution_count": 13,
     "metadata": {},
     "output_type": "execute_result"
    }
   ],
   "source": [
    "cal_df_latest.isna().sum()"
   ]
  },
  {
   "cell_type": "code",
   "execution_count": 14,
   "id": "823ca402-fc01-4986-b75d-df2b6e696ce7",
   "metadata": {},
   "outputs": [
    {
     "data": {
      "text/html": [
       "<div>\n",
       "<style scoped>\n",
       "    .dataframe tbody tr th:only-of-type {\n",
       "        vertical-align: middle;\n",
       "    }\n",
       "\n",
       "    .dataframe tbody tr th {\n",
       "        vertical-align: top;\n",
       "    }\n",
       "\n",
       "    .dataframe thead th {\n",
       "        text-align: right;\n",
       "    }\n",
       "</style>\n",
       "<table border=\"1\" class=\"dataframe\">\n",
       "  <thead>\n",
       "    <tr style=\"text-align: right;\">\n",
       "      <th></th>\n",
       "      <th>calender_id</th>\n",
       "      <th>listing_id</th>\n",
       "      <th>date</th>\n",
       "      <th>available</th>\n",
       "      <th>price</th>\n",
       "      <th>adjusted_price</th>\n",
       "      <th>minimum_nights</th>\n",
       "      <th>maximum_nights</th>\n",
       "    </tr>\n",
       "  </thead>\n",
       "  <tbody>\n",
       "    <tr>\n",
       "      <th>127948</th>\n",
       "      <td>127949</td>\n",
       "      <td>45416364</td>\n",
       "      <td>2022-12-20</td>\n",
       "      <td>False</td>\n",
       "      <td>NaN</td>\n",
       "      <td>NaN</td>\n",
       "      <td>30</td>\n",
       "      <td>1125</td>\n",
       "    </tr>\n",
       "    <tr>\n",
       "      <th>164594</th>\n",
       "      <td>164595</td>\n",
       "      <td>45416364</td>\n",
       "      <td>2022-12-21</td>\n",
       "      <td>False</td>\n",
       "      <td>NaN</td>\n",
       "      <td>NaN</td>\n",
       "      <td>30</td>\n",
       "      <td>1125</td>\n",
       "    </tr>\n",
       "    <tr>\n",
       "      <th>257968</th>\n",
       "      <td>257969</td>\n",
       "      <td>45416364</td>\n",
       "      <td>2022-12-24</td>\n",
       "      <td>False</td>\n",
       "      <td>NaN</td>\n",
       "      <td>NaN</td>\n",
       "      <td>30</td>\n",
       "      <td>1125</td>\n",
       "    </tr>\n",
       "  </tbody>\n",
       "</table>\n",
       "</div>"
      ],
      "text/plain": [
       "        calender_id  listing_id       date  available  price  adjusted_price  \\\n",
       "127948       127949    45416364 2022-12-20      False    NaN             NaN   \n",
       "164594       164595    45416364 2022-12-21      False    NaN             NaN   \n",
       "257968       257969    45416364 2022-12-24      False    NaN             NaN   \n",
       "\n",
       "        minimum_nights  maximum_nights  \n",
       "127948              30            1125  \n",
       "164594              30            1125  \n",
       "257968              30            1125  "
      ]
     },
     "execution_count": 14,
     "metadata": {},
     "output_type": "execute_result"
    }
   ],
   "source": [
    "cal_df_latest[cal_df_latest['price'].isna()]"
   ]
  },
  {
   "cell_type": "code",
   "execution_count": 15,
   "id": "500453cd-22c6-423a-8a25-94179dc9c1bc",
   "metadata": {},
   "outputs": [
    {
     "data": {
      "text/html": [
       "<div>\n",
       "<style scoped>\n",
       "    .dataframe tbody tr th:only-of-type {\n",
       "        vertical-align: middle;\n",
       "    }\n",
       "\n",
       "    .dataframe tbody tr th {\n",
       "        vertical-align: top;\n",
       "    }\n",
       "\n",
       "    .dataframe thead th {\n",
       "        text-align: right;\n",
       "    }\n",
       "</style>\n",
       "<table border=\"1\" class=\"dataframe\">\n",
       "  <thead>\n",
       "    <tr style=\"text-align: right;\">\n",
       "      <th></th>\n",
       "      <th>calender_id</th>\n",
       "      <th>listing_id</th>\n",
       "      <th>date</th>\n",
       "      <th>available</th>\n",
       "      <th>price</th>\n",
       "      <th>adjusted_price</th>\n",
       "      <th>minimum_nights</th>\n",
       "      <th>maximum_nights</th>\n",
       "    </tr>\n",
       "  </thead>\n",
       "  <tbody>\n",
       "    <tr>\n",
       "      <th>277844</th>\n",
       "      <td>277845</td>\n",
       "      <td>33414044</td>\n",
       "      <td>2022-12-05</td>\n",
       "      <td>True</td>\n",
       "      <td>116.0</td>\n",
       "      <td>116.0</td>\n",
       "      <td>2</td>\n",
       "      <td>1125</td>\n",
       "    </tr>\n",
       "    <tr>\n",
       "      <th>21839</th>\n",
       "      <td>21840</td>\n",
       "      <td>33192413</td>\n",
       "      <td>2022-12-06</td>\n",
       "      <td>False</td>\n",
       "      <td>34.0</td>\n",
       "      <td>34.0</td>\n",
       "      <td>1</td>\n",
       "      <td>1125</td>\n",
       "    </tr>\n",
       "    <tr>\n",
       "      <th>312912</th>\n",
       "      <td>312913</td>\n",
       "      <td>33192413</td>\n",
       "      <td>2022-12-07</td>\n",
       "      <td>False</td>\n",
       "      <td>34.0</td>\n",
       "      <td>34.0</td>\n",
       "      <td>1</td>\n",
       "      <td>1125</td>\n",
       "    </tr>\n",
       "    <tr>\n",
       "      <th>217570</th>\n",
       "      <td>217571</td>\n",
       "      <td>33414044</td>\n",
       "      <td>2022-12-07</td>\n",
       "      <td>True</td>\n",
       "      <td>116.0</td>\n",
       "      <td>116.0</td>\n",
       "      <td>2</td>\n",
       "      <td>1125</td>\n",
       "    </tr>\n",
       "    <tr>\n",
       "      <th>171392</th>\n",
       "      <td>171393</td>\n",
       "      <td>33716554</td>\n",
       "      <td>2022-12-08</td>\n",
       "      <td>False</td>\n",
       "      <td>75.0</td>\n",
       "      <td>75.0</td>\n",
       "      <td>2</td>\n",
       "      <td>1125</td>\n",
       "    </tr>\n",
       "    <tr>\n",
       "      <th>...</th>\n",
       "      <td>...</td>\n",
       "      <td>...</td>\n",
       "      <td>...</td>\n",
       "      <td>...</td>\n",
       "      <td>...</td>\n",
       "      <td>...</td>\n",
       "      <td>...</td>\n",
       "      <td>...</td>\n",
       "    </tr>\n",
       "    <tr>\n",
       "      <th>196873</th>\n",
       "      <td>196874</td>\n",
       "      <td>38547626</td>\n",
       "      <td>2022-12-25</td>\n",
       "      <td>False</td>\n",
       "      <td>68.0</td>\n",
       "      <td>68.0</td>\n",
       "      <td>2</td>\n",
       "      <td>1125</td>\n",
       "    </tr>\n",
       "    <tr>\n",
       "      <th>115452</th>\n",
       "      <td>115453</td>\n",
       "      <td>12746696</td>\n",
       "      <td>2022-12-25</td>\n",
       "      <td>False</td>\n",
       "      <td>96.0</td>\n",
       "      <td>96.0</td>\n",
       "      <td>2</td>\n",
       "      <td>1125</td>\n",
       "    </tr>\n",
       "    <tr>\n",
       "      <th>253381</th>\n",
       "      <td>253382</td>\n",
       "      <td>51123661</td>\n",
       "      <td>2022-12-25</td>\n",
       "      <td>True</td>\n",
       "      <td>175.0</td>\n",
       "      <td>175.0</td>\n",
       "      <td>1</td>\n",
       "      <td>365</td>\n",
       "    </tr>\n",
       "    <tr>\n",
       "      <th>253370</th>\n",
       "      <td>253371</td>\n",
       "      <td>40628338</td>\n",
       "      <td>2022-12-25</td>\n",
       "      <td>False</td>\n",
       "      <td>80.0</td>\n",
       "      <td>80.0</td>\n",
       "      <td>1</td>\n",
       "      <td>1125</td>\n",
       "    </tr>\n",
       "    <tr>\n",
       "      <th>314793</th>\n",
       "      <td>314794</td>\n",
       "      <td>53913084</td>\n",
       "      <td>2022-12-25</td>\n",
       "      <td>True</td>\n",
       "      <td>358.0</td>\n",
       "      <td>358.0</td>\n",
       "      <td>7</td>\n",
       "      <td>28</td>\n",
       "    </tr>\n",
       "  </tbody>\n",
       "</table>\n",
       "<p>5244 rows × 8 columns</p>\n",
       "</div>"
      ],
      "text/plain": [
       "        calender_id  listing_id       date  available  price  adjusted_price  \\\n",
       "277844       277845    33414044 2022-12-05       True  116.0           116.0   \n",
       "21839         21840    33192413 2022-12-06      False   34.0            34.0   \n",
       "312912       312913    33192413 2022-12-07      False   34.0            34.0   \n",
       "217570       217571    33414044 2022-12-07       True  116.0           116.0   \n",
       "171392       171393    33716554 2022-12-08      False   75.0            75.0   \n",
       "...             ...         ...        ...        ...    ...             ...   \n",
       "196873       196874    38547626 2022-12-25      False   68.0            68.0   \n",
       "115452       115453    12746696 2022-12-25      False   96.0            96.0   \n",
       "253381       253382    51123661 2022-12-25       True  175.0           175.0   \n",
       "253370       253371    40628338 2022-12-25      False   80.0            80.0   \n",
       "314793       314794    53913084 2022-12-25       True  358.0           358.0   \n",
       "\n",
       "        minimum_nights  maximum_nights  \n",
       "277844               2            1125  \n",
       "21839                1            1125  \n",
       "312912               1            1125  \n",
       "217570               2            1125  \n",
       "171392               2            1125  \n",
       "...                ...             ...  \n",
       "196873               2            1125  \n",
       "115452               2            1125  \n",
       "253381               1             365  \n",
       "253370               1            1125  \n",
       "314793               7              28  \n",
       "\n",
       "[5244 rows x 8 columns]"
      ]
     },
     "execution_count": 15,
     "metadata": {},
     "output_type": "execute_result"
    }
   ],
   "source": [
    "cal_df_latest = cal_df_latest.dropna()\n",
    "cal_df_latest"
   ]
  },
  {
   "cell_type": "code",
   "execution_count": 16,
   "id": "e83ebee0-52fc-4c81-8fa6-8f6980b2957f",
   "metadata": {},
   "outputs": [
    {
     "name": "stdout",
     "output_type": "stream",
     "text": [
      "<class 'pandas.core.frame.DataFrame'>\n",
      "Int64Index: 5244 entries, 277844 to 314793\n",
      "Data columns (total 8 columns):\n",
      " #   Column          Non-Null Count  Dtype         \n",
      "---  ------          --------------  -----         \n",
      " 0   calender_id     5244 non-null   int64         \n",
      " 1   listing_id      5244 non-null   int64         \n",
      " 2   date            5244 non-null   datetime64[ns]\n",
      " 3   available       5244 non-null   bool          \n",
      " 4   price           5244 non-null   float64       \n",
      " 5   adjusted_price  5244 non-null   float64       \n",
      " 6   minimum_nights  5244 non-null   int64         \n",
      " 7   maximum_nights  5244 non-null   int64         \n",
      "dtypes: bool(1), datetime64[ns](1), float64(2), int64(4)\n",
      "memory usage: 332.9 KB\n"
     ]
    }
   ],
   "source": [
    "cal_df_latest.info()"
   ]
  },
  {
   "cell_type": "code",
   "execution_count": 17,
   "id": "4c523dc9-b2e9-4980-802f-17cae7b8a484",
   "metadata": {},
   "outputs": [],
   "source": [
    "cal_df_sorted = cal_df_latest.groupby('listing_id').mean().round(2)"
   ]
  },
  {
   "cell_type": "code",
   "execution_count": 18,
   "id": "c1ce50c0-093a-4000-90ff-83d99df8043e",
   "metadata": {},
   "outputs": [],
   "source": [
    "cal_df_sorted.reset_index(level = 0 , inplace = True)"
   ]
  },
  {
   "cell_type": "code",
   "execution_count": 19,
   "id": "ba00a1ce-382c-4246-949a-d9deb6233de9",
   "metadata": {},
   "outputs": [
    {
     "data": {
      "text/html": [
       "<div>\n",
       "<style scoped>\n",
       "    .dataframe tbody tr th:only-of-type {\n",
       "        vertical-align: middle;\n",
       "    }\n",
       "\n",
       "    .dataframe tbody tr th {\n",
       "        vertical-align: top;\n",
       "    }\n",
       "\n",
       "    .dataframe thead th {\n",
       "        text-align: right;\n",
       "    }\n",
       "</style>\n",
       "<table border=\"1\" class=\"dataframe\">\n",
       "  <thead>\n",
       "    <tr style=\"text-align: right;\">\n",
       "      <th></th>\n",
       "      <th>listing_id</th>\n",
       "      <th>calender_id</th>\n",
       "      <th>available</th>\n",
       "      <th>price</th>\n",
       "      <th>adjusted_price</th>\n",
       "      <th>minimum_nights</th>\n",
       "      <th>maximum_nights</th>\n",
       "    </tr>\n",
       "  </thead>\n",
       "  <tbody>\n",
       "    <tr>\n",
       "      <th>0</th>\n",
       "      <td>50904</td>\n",
       "      <td>166029.33</td>\n",
       "      <td>0.0</td>\n",
       "      <td>166.67</td>\n",
       "      <td>158.67</td>\n",
       "      <td>1.0</td>\n",
       "      <td>60.0</td>\n",
       "    </tr>\n",
       "    <tr>\n",
       "      <th>1</th>\n",
       "      <td>116134</td>\n",
       "      <td>173487.67</td>\n",
       "      <td>1.0</td>\n",
       "      <td>150.00</td>\n",
       "      <td>150.00</td>\n",
       "      <td>2.0</td>\n",
       "      <td>1125.0</td>\n",
       "    </tr>\n",
       "    <tr>\n",
       "      <th>2</th>\n",
       "      <td>218916</td>\n",
       "      <td>163471.33</td>\n",
       "      <td>0.0</td>\n",
       "      <td>85.00</td>\n",
       "      <td>85.00</td>\n",
       "      <td>1.0</td>\n",
       "      <td>50.0</td>\n",
       "    </tr>\n",
       "    <tr>\n",
       "      <th>3</th>\n",
       "      <td>224333</td>\n",
       "      <td>193003.33</td>\n",
       "      <td>1.0</td>\n",
       "      <td>16.00</td>\n",
       "      <td>16.00</td>\n",
       "      <td>14.0</td>\n",
       "      <td>365.0</td>\n",
       "    </tr>\n",
       "    <tr>\n",
       "      <th>4</th>\n",
       "      <td>224682</td>\n",
       "      <td>111238.33</td>\n",
       "      <td>1.0</td>\n",
       "      <td>85.00</td>\n",
       "      <td>85.00</td>\n",
       "      <td>2.0</td>\n",
       "      <td>30.0</td>\n",
       "    </tr>\n",
       "    <tr>\n",
       "      <th>...</th>\n",
       "      <td>...</td>\n",
       "      <td>...</td>\n",
       "      <td>...</td>\n",
       "      <td>...</td>\n",
       "      <td>...</td>\n",
       "      <td>...</td>\n",
       "      <td>...</td>\n",
       "    </tr>\n",
       "    <tr>\n",
       "      <th>1743</th>\n",
       "      <td>53916524</td>\n",
       "      <td>65968.00</td>\n",
       "      <td>1.0</td>\n",
       "      <td>88.00</td>\n",
       "      <td>88.00</td>\n",
       "      <td>3.0</td>\n",
       "      <td>365.0</td>\n",
       "    </tr>\n",
       "    <tr>\n",
       "      <th>1744</th>\n",
       "      <td>53928545</td>\n",
       "      <td>120818.67</td>\n",
       "      <td>1.0</td>\n",
       "      <td>49.00</td>\n",
       "      <td>49.00</td>\n",
       "      <td>20.0</td>\n",
       "      <td>1125.0</td>\n",
       "    </tr>\n",
       "    <tr>\n",
       "      <th>1745</th>\n",
       "      <td>53929354</td>\n",
       "      <td>163447.67</td>\n",
       "      <td>1.0</td>\n",
       "      <td>90.00</td>\n",
       "      <td>90.00</td>\n",
       "      <td>1.0</td>\n",
       "      <td>365.0</td>\n",
       "    </tr>\n",
       "    <tr>\n",
       "      <th>1746</th>\n",
       "      <td>53949105</td>\n",
       "      <td>191385.00</td>\n",
       "      <td>1.0</td>\n",
       "      <td>990.00</td>\n",
       "      <td>990.00</td>\n",
       "      <td>2.0</td>\n",
       "      <td>1125.0</td>\n",
       "    </tr>\n",
       "    <tr>\n",
       "      <th>1747</th>\n",
       "      <td>53983318</td>\n",
       "      <td>156374.33</td>\n",
       "      <td>1.0</td>\n",
       "      <td>150.00</td>\n",
       "      <td>150.00</td>\n",
       "      <td>3.0</td>\n",
       "      <td>365.0</td>\n",
       "    </tr>\n",
       "  </tbody>\n",
       "</table>\n",
       "<p>1748 rows × 7 columns</p>\n",
       "</div>"
      ],
      "text/plain": [
       "      listing_id  calender_id  available   price  adjusted_price  \\\n",
       "0          50904    166029.33        0.0  166.67          158.67   \n",
       "1         116134    173487.67        1.0  150.00          150.00   \n",
       "2         218916    163471.33        0.0   85.00           85.00   \n",
       "3         224333    193003.33        1.0   16.00           16.00   \n",
       "4         224682    111238.33        1.0   85.00           85.00   \n",
       "...          ...          ...        ...     ...             ...   \n",
       "1743    53916524     65968.00        1.0   88.00           88.00   \n",
       "1744    53928545    120818.67        1.0   49.00           49.00   \n",
       "1745    53929354    163447.67        1.0   90.00           90.00   \n",
       "1746    53949105    191385.00        1.0  990.00          990.00   \n",
       "1747    53983318    156374.33        1.0  150.00          150.00   \n",
       "\n",
       "      minimum_nights  maximum_nights  \n",
       "0                1.0            60.0  \n",
       "1                2.0          1125.0  \n",
       "2                1.0            50.0  \n",
       "3               14.0           365.0  \n",
       "4                2.0            30.0  \n",
       "...              ...             ...  \n",
       "1743             3.0           365.0  \n",
       "1744            20.0          1125.0  \n",
       "1745             1.0           365.0  \n",
       "1746             2.0          1125.0  \n",
       "1747             3.0           365.0  \n",
       "\n",
       "[1748 rows x 7 columns]"
      ]
     },
     "execution_count": 19,
     "metadata": {},
     "output_type": "execute_result"
    }
   ],
   "source": [
    "cal_df_sorted"
   ]
  },
  {
   "cell_type": "code",
   "execution_count": 20,
   "id": "f15b4876-d9f7-462a-b11f-1abfdd65a0bb",
   "metadata": {},
   "outputs": [
    {
     "name": "stdout",
     "output_type": "stream",
     "text": [
      "<class 'pandas.core.frame.DataFrame'>\n",
      "RangeIndex: 1748 entries, 0 to 1747\n",
      "Data columns (total 7 columns):\n",
      " #   Column          Non-Null Count  Dtype  \n",
      "---  ------          --------------  -----  \n",
      " 0   listing_id      1748 non-null   int64  \n",
      " 1   calender_id     1748 non-null   float64\n",
      " 2   available       1748 non-null   float64\n",
      " 3   price           1748 non-null   float64\n",
      " 4   adjusted_price  1748 non-null   float64\n",
      " 5   minimum_nights  1748 non-null   float64\n",
      " 6   maximum_nights  1748 non-null   float64\n",
      "dtypes: float64(6), int64(1)\n",
      "memory usage: 95.7 KB\n"
     ]
    }
   ],
   "source": [
    "cal_df_sorted.info()"
   ]
  },
  {
   "cell_type": "markdown",
   "id": "5ebd8047-098a-4d5b-ab31-02127dfcf5be",
   "metadata": {},
   "source": [
    "######  Final data has 1748 unique listing ids, as we have dropped the rows with blank price column"
   ]
  },
  {
   "cell_type": "code",
   "execution_count": null,
   "id": "54039544-ba19-4b8a-bcfb-584f8e1f9a08",
   "metadata": {},
   "outputs": [],
   "source": []
  },
  {
   "cell_type": "markdown",
   "id": "767b9fe8-eafe-4f9d-91c5-8059f56fc93a",
   "metadata": {},
   "source": [
    "## Listings table"
   ]
  },
  {
   "cell_type": "code",
   "execution_count": 21,
   "id": "abaad137-7ed8-4bad-92c0-72406d0469c9",
   "metadata": {},
   "outputs": [
    {
     "data": {
      "text/html": [
       "<div>\n",
       "<style scoped>\n",
       "    .dataframe tbody tr th:only-of-type {\n",
       "        vertical-align: middle;\n",
       "    }\n",
       "\n",
       "    .dataframe tbody tr th {\n",
       "        vertical-align: top;\n",
       "    }\n",
       "\n",
       "    .dataframe thead th {\n",
       "        text-align: right;\n",
       "    }\n",
       "</style>\n",
       "<table border=\"1\" class=\"dataframe\">\n",
       "  <thead>\n",
       "    <tr style=\"text-align: right;\">\n",
       "      <th></th>\n",
       "      <th>listing_id</th>\n",
       "      <th>listing_url</th>\n",
       "      <th>name</th>\n",
       "      <th>description</th>\n",
       "      <th>latitude</th>\n",
       "      <th>longitude</th>\n",
       "      <th>property_type</th>\n",
       "      <th>room_type</th>\n",
       "      <th>accomodates</th>\n",
       "      <th>bathrooms_text</th>\n",
       "      <th>bedrooms</th>\n",
       "      <th>beds</th>\n",
       "      <th>amenities</th>\n",
       "      <th>host_id</th>\n",
       "    </tr>\n",
       "  </thead>\n",
       "  <tbody>\n",
       "    <tr>\n",
       "      <th>0</th>\n",
       "      <td>50904</td>\n",
       "      <td>https://www.airbnb.com/rooms/50904</td>\n",
       "      <td>aplace/antwerp: cosy suite - fashion district</td>\n",
       "      <td>Decorated in a vintage style combined with a f...</td>\n",
       "      <td>51.218575</td>\n",
       "      <td>4.398631</td>\n",
       "      <td>Room in boutique hotel</td>\n",
       "      <td>Hotel room</td>\n",
       "      <td>2</td>\n",
       "      <td>1 private bath</td>\n",
       "      <td>1.0</td>\n",
       "      <td>1.0</td>\n",
       "      <td>[\"Kitchen\", \"Smoke alarm\", \"Hair dryer\", \"Keyp...</td>\n",
       "      <td>234077</td>\n",
       "    </tr>\n",
       "    <tr>\n",
       "      <th>1</th>\n",
       "      <td>116134</td>\n",
       "      <td>https://www.airbnb.com/rooms/116134</td>\n",
       "      <td>Spacious apartment nearby Mas</td>\n",
       "      <td>Enjoy your stay at our 4 person apartment in t...</td>\n",
       "      <td>51.230510</td>\n",
       "      <td>4.405930</td>\n",
       "      <td>Entire rental unit</td>\n",
       "      <td>Entire home/apt</td>\n",
       "      <td>4</td>\n",
       "      <td>2.5 baths</td>\n",
       "      <td>2.0</td>\n",
       "      <td>2.0</td>\n",
       "      <td>[\"Refrigerator\", \"Elevator\", \"Paid street park...</td>\n",
       "      <td>586942</td>\n",
       "    </tr>\n",
       "    <tr>\n",
       "      <th>2</th>\n",
       "      <td>218916</td>\n",
       "      <td>https://www.airbnb.com/rooms/218916</td>\n",
       "      <td>Apartment with terrace in trendy Zurenborg</td>\n",
       "      <td>Do you enjoy authentic places with a lot of ch...</td>\n",
       "      <td>51.206330</td>\n",
       "      <td>4.429420</td>\n",
       "      <td>Entire condominium (condo)</td>\n",
       "      <td>Entire home/apt</td>\n",
       "      <td>5</td>\n",
       "      <td>1 bath</td>\n",
       "      <td>1.0</td>\n",
       "      <td>3.0</td>\n",
       "      <td>[\"Paid street parking off premises\", \"Kitchen\"...</td>\n",
       "      <td>915664</td>\n",
       "    </tr>\n",
       "    <tr>\n",
       "      <th>3</th>\n",
       "      <td>224333</td>\n",
       "      <td>https://www.airbnb.com/rooms/224333</td>\n",
       "      <td>Large stylish room in 1930s house + garden</td>\n",
       "      <td>Large bedroom in classic 1930s house. Kitchen,...</td>\n",
       "      <td>51.197720</td>\n",
       "      <td>4.458530</td>\n",
       "      <td>Private room in residential home</td>\n",
       "      <td>Private room</td>\n",
       "      <td>2</td>\n",
       "      <td>2 shared baths</td>\n",
       "      <td>1.0</td>\n",
       "      <td>1.0</td>\n",
       "      <td>[\"Fire extinguisher\", \"Backyard\", \"Long term s...</td>\n",
       "      <td>1167377</td>\n",
       "    </tr>\n",
       "    <tr>\n",
       "      <th>4</th>\n",
       "      <td>224682</td>\n",
       "      <td>https://www.airbnb.com/rooms/224682</td>\n",
       "      <td>APARTMENT ROSCAM - OLD CENTRE ANTWERP</td>\n",
       "      <td>&lt;b&gt;The space&lt;/b&gt;&lt;br /&gt;Apartment \"Roscam\" is a ...</td>\n",
       "      <td>51.217220</td>\n",
       "      <td>4.397900</td>\n",
       "      <td>Entire rental unit</td>\n",
       "      <td>Entire home/apt</td>\n",
       "      <td>3</td>\n",
       "      <td>1 bath</td>\n",
       "      <td>1.0</td>\n",
       "      <td>2.0</td>\n",
       "      <td>[\"Refrigerator\", \"Kitchen\", \"Smoke alarm\", \"Sh...</td>\n",
       "      <td>1263933</td>\n",
       "    </tr>\n",
       "  </tbody>\n",
       "</table>\n",
       "</div>"
      ],
      "text/plain": [
       "   listing_id                          listing_url  \\\n",
       "0       50904   https://www.airbnb.com/rooms/50904   \n",
       "1      116134  https://www.airbnb.com/rooms/116134   \n",
       "2      218916  https://www.airbnb.com/rooms/218916   \n",
       "3      224333  https://www.airbnb.com/rooms/224333   \n",
       "4      224682  https://www.airbnb.com/rooms/224682   \n",
       "\n",
       "                                            name  \\\n",
       "0  aplace/antwerp: cosy suite - fashion district   \n",
       "1                  Spacious apartment nearby Mas   \n",
       "2     Apartment with terrace in trendy Zurenborg   \n",
       "3     Large stylish room in 1930s house + garden   \n",
       "4          APARTMENT ROSCAM - OLD CENTRE ANTWERP   \n",
       "\n",
       "                                         description   latitude  longitude  \\\n",
       "0  Decorated in a vintage style combined with a f...  51.218575   4.398631   \n",
       "1  Enjoy your stay at our 4 person apartment in t...  51.230510   4.405930   \n",
       "2  Do you enjoy authentic places with a lot of ch...  51.206330   4.429420   \n",
       "3  Large bedroom in classic 1930s house. Kitchen,...  51.197720   4.458530   \n",
       "4  <b>The space</b><br />Apartment \"Roscam\" is a ...  51.217220   4.397900   \n",
       "\n",
       "                      property_type        room_type  accomodates  \\\n",
       "0            Room in boutique hotel       Hotel room            2   \n",
       "1                Entire rental unit  Entire home/apt            4   \n",
       "2        Entire condominium (condo)  Entire home/apt            5   \n",
       "3  Private room in residential home     Private room            2   \n",
       "4                Entire rental unit  Entire home/apt            3   \n",
       "\n",
       "   bathrooms_text  bedrooms  beds  \\\n",
       "0  1 private bath       1.0   1.0   \n",
       "1       2.5 baths       2.0   2.0   \n",
       "2          1 bath       1.0   3.0   \n",
       "3  2 shared baths       1.0   1.0   \n",
       "4          1 bath       1.0   2.0   \n",
       "\n",
       "                                           amenities  host_id  \n",
       "0  [\"Kitchen\", \"Smoke alarm\", \"Hair dryer\", \"Keyp...   234077  \n",
       "1  [\"Refrigerator\", \"Elevator\", \"Paid street park...   586942  \n",
       "2  [\"Paid street parking off premises\", \"Kitchen\"...   915664  \n",
       "3  [\"Fire extinguisher\", \"Backyard\", \"Long term s...  1167377  \n",
       "4  [\"Refrigerator\", \"Kitchen\", \"Smoke alarm\", \"Sh...  1263933  "
      ]
     },
     "execution_count": 21,
     "metadata": {},
     "output_type": "execute_result"
    }
   ],
   "source": [
    "list_df.head()"
   ]
  },
  {
   "cell_type": "code",
   "execution_count": 22,
   "id": "8d3ef1ac-7055-4a3f-9cd7-2b1c70088a9c",
   "metadata": {},
   "outputs": [
    {
     "data": {
      "text/plain": [
       "<AxesSubplot:>"
      ]
     },
     "execution_count": 22,
     "metadata": {},
     "output_type": "execute_result"
    },
    {
     "data": {
      "image/png": "[encoded data removed]",
      "text/plain": [
       "<Figure size 432x288 with 1 Axes>"
      ]
     },
     "metadata": {
      "needs_background": "light"
     },
     "output_type": "display_data"
    }
   ],
   "source": [
    "list_df.isna().sum().plot(kind = 'bar')"
   ]
  },
  {
   "cell_type": "code",
   "execution_count": 23,
   "id": "35ca9d72-b94e-4580-bfe6-3e8a0a6f89d7",
   "metadata": {},
   "outputs": [
    {
     "data": {
      "text/plain": [
       "(1749, 14)"
      ]
     },
     "execution_count": 23,
     "metadata": {},
     "output_type": "execute_result"
    }
   ],
   "source": [
    "list_df.shape"
   ]
  },
  {
   "cell_type": "code",
   "execution_count": 24,
   "id": "b97d961f-60fa-4148-b09d-d47bd4800a77",
   "metadata": {},
   "outputs": [
    {
     "data": {
      "text/plain": [
       "1749"
      ]
     },
     "execution_count": 24,
     "metadata": {},
     "output_type": "execute_result"
    }
   ],
   "source": [
    "list_df['listing_id'].nunique()"
   ]
  },
  {
   "cell_type": "markdown",
   "id": "34ac13f9-1d53-453c-bfb1-17d736361d9a",
   "metadata": {},
   "source": [
    "######  We have similar count of rows in the calender table and can be joined easily"
   ]
  },
  {
   "cell_type": "markdown",
   "id": "6089a084-58be-40f8-9de2-cf11ad228811",
   "metadata": {},
   "source": [
    "## Hosts table"
   ]
  },
  {
   "cell_type": "code",
   "execution_count": 25,
   "id": "0a4f2977-57a3-4c96-98f2-c6ba87678f4a",
   "metadata": {},
   "outputs": [
    {
     "data": {
      "text/html": [
       "<div>\n",
       "<style scoped>\n",
       "    .dataframe tbody tr th:only-of-type {\n",
       "        vertical-align: middle;\n",
       "    }\n",
       "\n",
       "    .dataframe tbody tr th {\n",
       "        vertical-align: top;\n",
       "    }\n",
       "\n",
       "    .dataframe thead th {\n",
       "        text-align: right;\n",
       "    }\n",
       "</style>\n",
       "<table border=\"1\" class=\"dataframe\">\n",
       "  <thead>\n",
       "    <tr style=\"text-align: right;\">\n",
       "      <th></th>\n",
       "      <th>host_id</th>\n",
       "      <th>host_name</th>\n",
       "      <th>host_since</th>\n",
       "      <th>host_location</th>\n",
       "      <th>host_about</th>\n",
       "    </tr>\n",
       "  </thead>\n",
       "  <tbody>\n",
       "    <tr>\n",
       "      <th>0</th>\n",
       "      <td>234077</td>\n",
       "      <td>Karin</td>\n",
       "      <td>2010-09-14</td>\n",
       "      <td>Antwerp, Flanders, Belgium</td>\n",
       "      <td>Ever since my childhood I dreamt of having my ...</td>\n",
       "    </tr>\n",
       "    <tr>\n",
       "      <th>1</th>\n",
       "      <td>334804</td>\n",
       "      <td>Ann</td>\n",
       "      <td>2011-01-04</td>\n",
       "      <td>Antwerp, Flemish Region, Belgium</td>\n",
       "      <td>Ciao, \\r\\nlooking forward to meet you!\\r\\nI lo...</td>\n",
       "    </tr>\n",
       "    <tr>\n",
       "      <th>2</th>\n",
       "      <td>413052</td>\n",
       "      <td>Valérie</td>\n",
       "      <td>2011-02-27</td>\n",
       "      <td>Antwerp, Flanders, Belgium</td>\n",
       "      <td>None</td>\n",
       "    </tr>\n",
       "    <tr>\n",
       "      <th>3</th>\n",
       "      <td>452791</td>\n",
       "      <td>Tatiana</td>\n",
       "      <td>2011-03-20</td>\n",
       "      <td>Antwerp, Flanders, Belgium</td>\n",
       "      <td>World traveler with a penchant for adrenaline ...</td>\n",
       "    </tr>\n",
       "    <tr>\n",
       "      <th>4</th>\n",
       "      <td>462975</td>\n",
       "      <td>Els</td>\n",
       "      <td>2011-03-25</td>\n",
       "      <td>Edegem, Flanders, Belgium</td>\n",
       "      <td>I studied languages and cultural anthropology ...</td>\n",
       "    </tr>\n",
       "  </tbody>\n",
       "</table>\n",
       "</div>"
      ],
      "text/plain": [
       "   host_id host_name host_since                     host_location  \\\n",
       "0   234077     Karin 2010-09-14        Antwerp, Flanders, Belgium   \n",
       "1   334804       Ann 2011-01-04  Antwerp, Flemish Region, Belgium   \n",
       "2   413052   Valérie 2011-02-27        Antwerp, Flanders, Belgium   \n",
       "3   452791   Tatiana 2011-03-20        Antwerp, Flanders, Belgium   \n",
       "4   462975       Els 2011-03-25         Edegem, Flanders, Belgium   \n",
       "\n",
       "                                          host_about  \n",
       "0  Ever since my childhood I dreamt of having my ...  \n",
       "1  Ciao, \\r\\nlooking forward to meet you!\\r\\nI lo...  \n",
       "2                                               None  \n",
       "3  World traveler with a penchant for adrenaline ...  \n",
       "4  I studied languages and cultural anthropology ...  "
      ]
     },
     "execution_count": 25,
     "metadata": {},
     "output_type": "execute_result"
    }
   ],
   "source": [
    "host_df.head()"
   ]
  },
  {
   "cell_type": "code",
   "execution_count": 26,
   "id": "0b8232cf-b088-431c-88e4-8f4bd03a92c9",
   "metadata": {},
   "outputs": [
    {
     "name": "stdout",
     "output_type": "stream",
     "text": [
      "<class 'pandas.core.frame.DataFrame'>\n",
      "RangeIndex: 1111 entries, 0 to 1110\n",
      "Data columns (total 5 columns):\n",
      " #   Column         Non-Null Count  Dtype         \n",
      "---  ------         --------------  -----         \n",
      " 0   host_id        1111 non-null   int64         \n",
      " 1   host_name      1111 non-null   object        \n",
      " 2   host_since     1111 non-null   datetime64[ns]\n",
      " 3   host_location  1108 non-null   object        \n",
      " 4   host_about     490 non-null    object        \n",
      "dtypes: datetime64[ns](1), int64(1), object(3)\n",
      "memory usage: 43.5+ KB\n"
     ]
    }
   ],
   "source": [
    "host_df.info()"
   ]
  },
  {
   "cell_type": "code",
   "execution_count": 27,
   "id": "058bb45b-5524-4c11-8017-64ff83f28a9a",
   "metadata": {},
   "outputs": [
    {
     "data": {
      "text/plain": [
       "<AxesSubplot:>"
      ]
     },
     "execution_count": 27,
     "metadata": {},
     "output_type": "execute_result"
    },
    {
     "data": {
      "image/png": "[encoded data removed]",
      "text/plain": [
       "<Figure size 432x288 with 1 Axes>"
      ]
     },
     "metadata": {
      "needs_background": "light"
     },
     "output_type": "display_data"
    }
   ],
   "source": [
    "host_df.isna().sum().plot(kind = 'bar')"
   ]
  },
  {
   "cell_type": "code",
   "execution_count": 28,
   "id": "31610d55-4dbb-47a1-8484-a868ea0bcd6c",
   "metadata": {},
   "outputs": [
    {
     "data": {
      "text/plain": [
       "1111"
      ]
     },
     "execution_count": 28,
     "metadata": {},
     "output_type": "execute_result"
    }
   ],
   "source": [
    "host_df['host_id'].nunique()"
   ]
  },
  {
   "cell_type": "markdown",
   "id": "fa39105c-1a7c-4c68-a6a3-97276bfabac3",
   "metadata": {},
   "source": [
    "###### No duplicate data in host_id, so we can join the remaining tables easily"
   ]
  },
  {
   "cell_type": "code",
   "execution_count": null,
   "id": "01e99f63-e796-4074-b679-fcb7d602bf5a",
   "metadata": {},
   "outputs": [],
   "source": []
  },
  {
   "cell_type": "markdown",
   "id": "efd4a005-e1d7-4f7d-8941-3df3a9ca007e",
   "metadata": {},
   "source": [
    "## Reviews table"
   ]
  },
  {
   "cell_type": "code",
   "execution_count": 29,
   "id": "57aa5fa7-a7af-4448-b082-f2a6b05c2025",
   "metadata": {},
   "outputs": [
    {
     "data": {
      "text/html": [
       "<div>\n",
       "<style scoped>\n",
       "    .dataframe tbody tr th:only-of-type {\n",
       "        vertical-align: middle;\n",
       "    }\n",
       "\n",
       "    .dataframe tbody tr th {\n",
       "        vertical-align: top;\n",
       "    }\n",
       "\n",
       "    .dataframe thead th {\n",
       "        text-align: right;\n",
       "    }\n",
       "</style>\n",
       "<table border=\"1\" class=\"dataframe\">\n",
       "  <thead>\n",
       "    <tr style=\"text-align: right;\">\n",
       "      <th></th>\n",
       "      <th>review_id</th>\n",
       "      <th>listing_id</th>\n",
       "      <th>date</th>\n",
       "      <th>reviewer_id</th>\n",
       "      <th>reviewer_name</th>\n",
       "      <th>comments</th>\n",
       "    </tr>\n",
       "  </thead>\n",
       "  <tbody>\n",
       "    <tr>\n",
       "      <th>0</th>\n",
       "      <td>1</td>\n",
       "      <td>50904</td>\n",
       "      <td>2015-05-06</td>\n",
       "      <td>19482395</td>\n",
       "      <td>Jihae</td>\n",
       "      <td>Karin’s “Aplace” is absolutely beautiful and c...</td>\n",
       "    </tr>\n",
       "    <tr>\n",
       "      <th>1</th>\n",
       "      <td>2</td>\n",
       "      <td>50904</td>\n",
       "      <td>2021-10-10</td>\n",
       "      <td>333559</td>\n",
       "      <td>Emilie</td>\n",
       "      <td>Karin is a wonderful host, she was really help...</td>\n",
       "    </tr>\n",
       "    <tr>\n",
       "      <th>2</th>\n",
       "      <td>3</td>\n",
       "      <td>116134</td>\n",
       "      <td>2012-03-05</td>\n",
       "      <td>928644</td>\n",
       "      <td>Aurélien</td>\n",
       "      <td>Amazing flat, really close from the MAS Musem,...</td>\n",
       "    </tr>\n",
       "    <tr>\n",
       "      <th>3</th>\n",
       "      <td>4</td>\n",
       "      <td>116134</td>\n",
       "      <td>2012-05-25</td>\n",
       "      <td>231288</td>\n",
       "      <td>Gail</td>\n",
       "      <td>This is a well equipped, very comfortable apar...</td>\n",
       "    </tr>\n",
       "    <tr>\n",
       "      <th>4</th>\n",
       "      <td>5</td>\n",
       "      <td>116134</td>\n",
       "      <td>2013-09-03</td>\n",
       "      <td>7984251</td>\n",
       "      <td>Marcel</td>\n",
       "      <td>This is a very nice appartement. We really lik...</td>\n",
       "    </tr>\n",
       "  </tbody>\n",
       "</table>\n",
       "</div>"
      ],
      "text/plain": [
       "   review_id  listing_id       date  reviewer_id reviewer_name  \\\n",
       "0          1       50904 2015-05-06     19482395         Jihae   \n",
       "1          2       50904 2021-10-10       333559        Emilie   \n",
       "2          3      116134 2012-03-05       928644      Aurélien   \n",
       "3          4      116134 2012-05-25       231288          Gail   \n",
       "4          5      116134 2013-09-03      7984251        Marcel   \n",
       "\n",
       "                                            comments  \n",
       "0  Karin’s “Aplace” is absolutely beautiful and c...  \n",
       "1  Karin is a wonderful host, she was really help...  \n",
       "2  Amazing flat, really close from the MAS Musem,...  \n",
       "3  This is a well equipped, very comfortable apar...  \n",
       "4  This is a very nice appartement. We really lik...  "
      ]
     },
     "execution_count": 29,
     "metadata": {},
     "output_type": "execute_result"
    }
   ],
   "source": [
    "Review_df.head()"
   ]
  },
  {
   "cell_type": "code",
   "execution_count": 30,
   "id": "e7905400-7c51-4669-a03d-20f8700d811e",
   "metadata": {},
   "outputs": [
    {
     "name": "stdout",
     "output_type": "stream",
     "text": [
      "<class 'pandas.core.frame.DataFrame'>\n",
      "RangeIndex: 62987 entries, 0 to 62986\n",
      "Data columns (total 6 columns):\n",
      " #   Column         Non-Null Count  Dtype         \n",
      "---  ------         --------------  -----         \n",
      " 0   review_id      62987 non-null  int64         \n",
      " 1   listing_id     62987 non-null  int64         \n",
      " 2   date           62987 non-null  datetime64[ns]\n",
      " 3   reviewer_id    62987 non-null  int64         \n",
      " 4   reviewer_name  62987 non-null  object        \n",
      " 5   comments       62923 non-null  object        \n",
      "dtypes: datetime64[ns](1), int64(3), object(2)\n",
      "memory usage: 2.9+ MB\n"
     ]
    }
   ],
   "source": [
    "Review_df.info()"
   ]
  },
  {
   "cell_type": "code",
   "execution_count": 31,
   "id": "4f8b68e7-50f1-48da-8887-0e62f46bd944",
   "metadata": {},
   "outputs": [
    {
     "data": {
      "text/plain": [
       "<AxesSubplot:>"
      ]
     },
     "execution_count": 31,
     "metadata": {},
     "output_type": "execute_result"
    },
    {
     "data": {
      "image/png": "[encoded data removed]",
      "text/plain": [
       "<Figure size 432x288 with 1 Axes>"
      ]
     },
     "metadata": {
      "needs_background": "light"
     },
     "output_type": "display_data"
    }
   ],
   "source": [
    "Review_df.isna().sum().plot(kind = 'bar')"
   ]
  },
  {
   "cell_type": "code",
   "execution_count": 32,
   "id": "2da1b3bb-ab41-48b1-b4ac-9010ddf1aac2",
   "metadata": {},
   "outputs": [
    {
     "data": {
      "text/plain": [
       "listing_id\n",
       "50904         2\n",
       "116134      120\n",
       "218916       28\n",
       "224333        3\n",
       "224682      349\n",
       "           ... \n",
       "53522234      2\n",
       "53538847      1\n",
       "53600839      1\n",
       "53819793      1\n",
       "53825194      2\n",
       "Name: reviewer_id, Length: 1525, dtype: int64"
      ]
     },
     "execution_count": 32,
     "metadata": {},
     "output_type": "execute_result"
    }
   ],
   "source": [
    "Review_df.groupby('listing_id').count()['reviewer_id']"
   ]
  },
  {
   "cell_type": "markdown",
   "id": "e697a941-6013-4d7b-a122-929cf77967ae",
   "metadata": {},
   "source": [
    "###### multiple reviews have been tagged to individual listing id which is common. We will have to average the data to help us training the model"
   ]
  },
  {
   "cell_type": "code",
   "execution_count": 33,
   "id": "aebb020b-1217-47d8-bd66-c8f6bb7441f6",
   "metadata": {},
   "outputs": [
    {
     "data": {
      "text/plain": [
       "count    1525.00\n",
       "mean       41.30\n",
       "std        64.77\n",
       "min         1.00\n",
       "25%         5.00\n",
       "50%        17.00\n",
       "75%        47.00\n",
       "max       648.00\n",
       "Name: reviewer_id, dtype: float64"
      ]
     },
     "execution_count": 33,
     "metadata": {},
     "output_type": "execute_result"
    }
   ],
   "source": [
    "Review_df.groupby('listing_id').count()['reviewer_id'].describe().round(2)"
   ]
  },
  {
   "cell_type": "code",
   "execution_count": 34,
   "id": "b5658fdd-27bc-4a53-bb12-f9734e4749cb",
   "metadata": {},
   "outputs": [],
   "source": [
    "Review_df_group = Review_df.groupby('listing_id').count()['reviewer_id'].to_dict()"
   ]
  },
  {
   "cell_type": "code",
   "execution_count": 35,
   "id": "5cfd4c09-deb5-4651-9533-9a5264f1ffc4",
   "metadata": {},
   "outputs": [],
   "source": [
    "Review_df['count_of_reviews'] = Review_df['listing_id'].map(Review_df_group)"
   ]
  },
  {
   "cell_type": "code",
   "execution_count": 36,
   "id": "439a6b1f-60e3-4968-a5f7-63a8728b40a3",
   "metadata": {},
   "outputs": [
    {
     "data": {
      "text/html": [
       "<div>\n",
       "<style scoped>\n",
       "    .dataframe tbody tr th:only-of-type {\n",
       "        vertical-align: middle;\n",
       "    }\n",
       "\n",
       "    .dataframe tbody tr th {\n",
       "        vertical-align: top;\n",
       "    }\n",
       "\n",
       "    .dataframe thead th {\n",
       "        text-align: right;\n",
       "    }\n",
       "</style>\n",
       "<table border=\"1\" class=\"dataframe\">\n",
       "  <thead>\n",
       "    <tr style=\"text-align: right;\">\n",
       "      <th></th>\n",
       "      <th>review_id</th>\n",
       "      <th>listing_id</th>\n",
       "      <th>date</th>\n",
       "      <th>reviewer_id</th>\n",
       "      <th>reviewer_name</th>\n",
       "      <th>comments</th>\n",
       "      <th>count_of_reviews</th>\n",
       "    </tr>\n",
       "  </thead>\n",
       "  <tbody>\n",
       "    <tr>\n",
       "      <th>0</th>\n",
       "      <td>1</td>\n",
       "      <td>50904</td>\n",
       "      <td>2015-05-06</td>\n",
       "      <td>19482395</td>\n",
       "      <td>Jihae</td>\n",
       "      <td>Karin’s “Aplace” is absolutely beautiful and c...</td>\n",
       "      <td>2</td>\n",
       "    </tr>\n",
       "    <tr>\n",
       "      <th>1</th>\n",
       "      <td>2</td>\n",
       "      <td>50904</td>\n",
       "      <td>2021-10-10</td>\n",
       "      <td>333559</td>\n",
       "      <td>Emilie</td>\n",
       "      <td>Karin is a wonderful host, she was really help...</td>\n",
       "      <td>2</td>\n",
       "    </tr>\n",
       "    <tr>\n",
       "      <th>2</th>\n",
       "      <td>3</td>\n",
       "      <td>116134</td>\n",
       "      <td>2012-03-05</td>\n",
       "      <td>928644</td>\n",
       "      <td>Aurélien</td>\n",
       "      <td>Amazing flat, really close from the MAS Musem,...</td>\n",
       "      <td>120</td>\n",
       "    </tr>\n",
       "    <tr>\n",
       "      <th>3</th>\n",
       "      <td>4</td>\n",
       "      <td>116134</td>\n",
       "      <td>2012-05-25</td>\n",
       "      <td>231288</td>\n",
       "      <td>Gail</td>\n",
       "      <td>This is a well equipped, very comfortable apar...</td>\n",
       "      <td>120</td>\n",
       "    </tr>\n",
       "    <tr>\n",
       "      <th>4</th>\n",
       "      <td>5</td>\n",
       "      <td>116134</td>\n",
       "      <td>2013-09-03</td>\n",
       "      <td>7984251</td>\n",
       "      <td>Marcel</td>\n",
       "      <td>This is a very nice appartement. We really lik...</td>\n",
       "      <td>120</td>\n",
       "    </tr>\n",
       "    <tr>\n",
       "      <th>...</th>\n",
       "      <td>...</td>\n",
       "      <td>...</td>\n",
       "      <td>...</td>\n",
       "      <td>...</td>\n",
       "      <td>...</td>\n",
       "      <td>...</td>\n",
       "      <td>...</td>\n",
       "    </tr>\n",
       "    <tr>\n",
       "      <th>62982</th>\n",
       "      <td>62983</td>\n",
       "      <td>53538847</td>\n",
       "      <td>2021-12-05</td>\n",
       "      <td>48076753</td>\n",
       "      <td>Serge</td>\n",
       "      <td>The place as it's shown in the photos. Great l...</td>\n",
       "      <td>1</td>\n",
       "    </tr>\n",
       "    <tr>\n",
       "      <th>62983</th>\n",
       "      <td>62984</td>\n",
       "      <td>53600839</td>\n",
       "      <td>2021-12-12</td>\n",
       "      <td>6635741</td>\n",
       "      <td>Dániel</td>\n",
       "      <td>The spacious apartment is idyllically located ...</td>\n",
       "      <td>1</td>\n",
       "    </tr>\n",
       "    <tr>\n",
       "      <th>62984</th>\n",
       "      <td>62985</td>\n",
       "      <td>53819793</td>\n",
       "      <td>2021-12-21</td>\n",
       "      <td>247934155</td>\n",
       "      <td>Gijs</td>\n",
       "      <td>It was great</td>\n",
       "      <td>1</td>\n",
       "    </tr>\n",
       "    <tr>\n",
       "      <th>62985</th>\n",
       "      <td>62986</td>\n",
       "      <td>53825194</td>\n",
       "      <td>2021-12-19</td>\n",
       "      <td>361042882</td>\n",
       "      <td>Siarhei</td>\n",
       "      <td>Flor es muy atenta y me ayudo mucho entrando a...</td>\n",
       "      <td>2</td>\n",
       "    </tr>\n",
       "    <tr>\n",
       "      <th>62986</th>\n",
       "      <td>62987</td>\n",
       "      <td>53825194</td>\n",
       "      <td>2021-12-23</td>\n",
       "      <td>196552814</td>\n",
       "      <td>Inne</td>\n",
       "      <td>Toplocatie. Flor is heel vriendelijk en reagee...</td>\n",
       "      <td>2</td>\n",
       "    </tr>\n",
       "  </tbody>\n",
       "</table>\n",
       "<p>62987 rows × 7 columns</p>\n",
       "</div>"
      ],
      "text/plain": [
       "       review_id  listing_id       date  reviewer_id reviewer_name  \\\n",
       "0              1       50904 2015-05-06     19482395         Jihae   \n",
       "1              2       50904 2021-10-10       333559        Emilie   \n",
       "2              3      116134 2012-03-05       928644      Aurélien   \n",
       "3              4      116134 2012-05-25       231288          Gail   \n",
       "4              5      116134 2013-09-03      7984251        Marcel   \n",
       "...          ...         ...        ...          ...           ...   \n",
       "62982      62983    53538847 2021-12-05     48076753         Serge   \n",
       "62983      62984    53600839 2021-12-12      6635741        Dániel   \n",
       "62984      62985    53819793 2021-12-21    247934155          Gijs   \n",
       "62985      62986    53825194 2021-12-19    361042882       Siarhei   \n",
       "62986      62987    53825194 2021-12-23    196552814          Inne   \n",
       "\n",
       "                                                comments  count_of_reviews  \n",
       "0      Karin’s “Aplace” is absolutely beautiful and c...                 2  \n",
       "1      Karin is a wonderful host, she was really help...                 2  \n",
       "2      Amazing flat, really close from the MAS Musem,...               120  \n",
       "3      This is a well equipped, very comfortable apar...               120  \n",
       "4      This is a very nice appartement. We really lik...               120  \n",
       "...                                                  ...               ...  \n",
       "62982  The place as it's shown in the photos. Great l...                 1  \n",
       "62983  The spacious apartment is idyllically located ...                 1  \n",
       "62984                                       It was great                 1  \n",
       "62985  Flor es muy atenta y me ayudo mucho entrando a...                 2  \n",
       "62986  Toplocatie. Flor is heel vriendelijk en reagee...                 2  \n",
       "\n",
       "[62987 rows x 7 columns]"
      ]
     },
     "execution_count": 36,
     "metadata": {},
     "output_type": "execute_result"
    }
   ],
   "source": [
    "Review_df"
   ]
  },
  {
   "cell_type": "code",
   "execution_count": 37,
   "id": "ba437ebd-cf46-479d-8780-4141bb29f3d2",
   "metadata": {},
   "outputs": [],
   "source": [
    "total_reviews = Review_df.groupby('listing_id').count()[['review_id']]"
   ]
  },
  {
   "cell_type": "code",
   "execution_count": 38,
   "id": "8e977a5a-59f9-4b65-ba65-4364d91b77b3",
   "metadata": {},
   "outputs": [],
   "source": [
    "total_reviews.reset_index(level = 0, inplace = True)"
   ]
  },
  {
   "cell_type": "code",
   "execution_count": 39,
   "id": "7cd57d00-ce96-4886-9acf-2009fee31a66",
   "metadata": {},
   "outputs": [],
   "source": [
    "total_reviews.columns =['listing_id','total_reviews']"
   ]
  },
  {
   "cell_type": "code",
   "execution_count": 40,
   "id": "7d03e0ee-9fb2-4b84-9359-6e2ca12f1162",
   "metadata": {},
   "outputs": [
    {
     "data": {
      "text/html": [
       "<div>\n",
       "<style scoped>\n",
       "    .dataframe tbody tr th:only-of-type {\n",
       "        vertical-align: middle;\n",
       "    }\n",
       "\n",
       "    .dataframe tbody tr th {\n",
       "        vertical-align: top;\n",
       "    }\n",
       "\n",
       "    .dataframe thead th {\n",
       "        text-align: right;\n",
       "    }\n",
       "</style>\n",
       "<table border=\"1\" class=\"dataframe\">\n",
       "  <thead>\n",
       "    <tr style=\"text-align: right;\">\n",
       "      <th></th>\n",
       "      <th>listing_id</th>\n",
       "      <th>total_reviews</th>\n",
       "    </tr>\n",
       "  </thead>\n",
       "  <tbody>\n",
       "    <tr>\n",
       "      <th>64</th>\n",
       "      <td>4502646</td>\n",
       "      <td>648</td>\n",
       "    </tr>\n",
       "    <tr>\n",
       "      <th>136</th>\n",
       "      <td>8766126</td>\n",
       "      <td>564</td>\n",
       "    </tr>\n",
       "    <tr>\n",
       "      <th>35</th>\n",
       "      <td>1901179</td>\n",
       "      <td>463</td>\n",
       "    </tr>\n",
       "    <tr>\n",
       "      <th>131</th>\n",
       "      <td>8587634</td>\n",
       "      <td>447</td>\n",
       "    </tr>\n",
       "    <tr>\n",
       "      <th>538</th>\n",
       "      <td>28693154</td>\n",
       "      <td>394</td>\n",
       "    </tr>\n",
       "    <tr>\n",
       "      <th>...</th>\n",
       "      <td>...</td>\n",
       "      <td>...</td>\n",
       "    </tr>\n",
       "    <tr>\n",
       "      <th>1407</th>\n",
       "      <td>51967682</td>\n",
       "      <td>1</td>\n",
       "    </tr>\n",
       "    <tr>\n",
       "      <th>1023</th>\n",
       "      <td>43136840</td>\n",
       "      <td>1</td>\n",
       "    </tr>\n",
       "    <tr>\n",
       "      <th>1028</th>\n",
       "      <td>43341118</td>\n",
       "      <td>1</td>\n",
       "    </tr>\n",
       "    <tr>\n",
       "      <th>1034</th>\n",
       "      <td>43584824</td>\n",
       "      <td>1</td>\n",
       "    </tr>\n",
       "    <tr>\n",
       "      <th>1437</th>\n",
       "      <td>52315681</td>\n",
       "      <td>1</td>\n",
       "    </tr>\n",
       "  </tbody>\n",
       "</table>\n",
       "<p>1525 rows × 2 columns</p>\n",
       "</div>"
      ],
      "text/plain": [
       "      listing_id  total_reviews\n",
       "64       4502646            648\n",
       "136      8766126            564\n",
       "35       1901179            463\n",
       "131      8587634            447\n",
       "538     28693154            394\n",
       "...          ...            ...\n",
       "1407    51967682              1\n",
       "1023    43136840              1\n",
       "1028    43341118              1\n",
       "1034    43584824              1\n",
       "1437    52315681              1\n",
       "\n",
       "[1525 rows x 2 columns]"
      ]
     },
     "execution_count": 40,
     "metadata": {},
     "output_type": "execute_result"
    }
   ],
   "source": [
    "total_reviews.sort_values('total_reviews',ascending = False)"
   ]
  },
  {
   "cell_type": "code",
   "execution_count": 41,
   "id": "18a520cd-2f87-4b13-9cd3-0ec3ef6aba3d",
   "metadata": {},
   "outputs": [
    {
     "data": {
      "text/html": [
       "<div>\n",
       "<style scoped>\n",
       "    .dataframe tbody tr th:only-of-type {\n",
       "        vertical-align: middle;\n",
       "    }\n",
       "\n",
       "    .dataframe tbody tr th {\n",
       "        vertical-align: top;\n",
       "    }\n",
       "\n",
       "    .dataframe thead th {\n",
       "        text-align: right;\n",
       "    }\n",
       "</style>\n",
       "<table border=\"1\" class=\"dataframe\">\n",
       "  <thead>\n",
       "    <tr style=\"text-align: right;\">\n",
       "      <th></th>\n",
       "      <th>listing_id</th>\n",
       "      <th>total_reviews</th>\n",
       "    </tr>\n",
       "  </thead>\n",
       "  <tbody>\n",
       "    <tr>\n",
       "      <th>0</th>\n",
       "      <td>50904</td>\n",
       "      <td>2</td>\n",
       "    </tr>\n",
       "    <tr>\n",
       "      <th>1</th>\n",
       "      <td>116134</td>\n",
       "      <td>120</td>\n",
       "    </tr>\n",
       "    <tr>\n",
       "      <th>2</th>\n",
       "      <td>218916</td>\n",
       "      <td>28</td>\n",
       "    </tr>\n",
       "    <tr>\n",
       "      <th>3</th>\n",
       "      <td>224333</td>\n",
       "      <td>3</td>\n",
       "    </tr>\n",
       "    <tr>\n",
       "      <th>4</th>\n",
       "      <td>224682</td>\n",
       "      <td>349</td>\n",
       "    </tr>\n",
       "  </tbody>\n",
       "</table>\n",
       "</div>"
      ],
      "text/plain": [
       "   listing_id  total_reviews\n",
       "0       50904              2\n",
       "1      116134            120\n",
       "2      218916             28\n",
       "3      224333              3\n",
       "4      224682            349"
      ]
     },
     "execution_count": 41,
     "metadata": {},
     "output_type": "execute_result"
    }
   ],
   "source": [
    "total_reviews.head()"
   ]
  },
  {
   "cell_type": "markdown",
   "id": "cd1cbe15-73a4-45a8-9271-87fec32323d3",
   "metadata": {},
   "source": [
    "#### Now that we have all the tables ready, we can join them together as a single data frame and continue with the next steps"
   ]
  },
  {
   "cell_type": "markdown",
   "id": "eb0bd2cf-dac6-4613-8a8d-4d07cf02b620",
   "metadata": {},
   "source": [
    "## Joining tables"
   ]
  },
  {
   "cell_type": "code",
   "execution_count": 42,
   "id": "701d17ed-44bb-4083-8fda-912f34baa38e",
   "metadata": {},
   "outputs": [],
   "source": [
    "df_cal_list = pd.merge(cal_df_sorted,list_df, on = 'listing_id', how = 'inner' )"
   ]
  },
  {
   "cell_type": "code",
   "execution_count": 43,
   "id": "df089a1d-8aea-4130-a320-0e882e8735e5",
   "metadata": {},
   "outputs": [
    {
     "data": {
      "text/plain": [
       "(1748, 20)"
      ]
     },
     "execution_count": 43,
     "metadata": {},
     "output_type": "execute_result"
    }
   ],
   "source": [
    "df_cal_list.shape"
   ]
  },
  {
   "cell_type": "code",
   "execution_count": 44,
   "id": "7c51506e-b480-45ac-99f7-2da2e77662d6",
   "metadata": {},
   "outputs": [],
   "source": [
    "df_cal_list_host = pd.merge(df_cal_list,host_df, on = 'host_id', how = 'inner' )"
   ]
  },
  {
   "cell_type": "code",
   "execution_count": 45,
   "id": "6d08260b-eb22-4400-a396-1fec0f522011",
   "metadata": {},
   "outputs": [
    {
     "data": {
      "text/plain": [
       "(1748, 24)"
      ]
     },
     "execution_count": 45,
     "metadata": {},
     "output_type": "execute_result"
    }
   ],
   "source": [
    "df_cal_list_host.shape"
   ]
  },
  {
   "cell_type": "code",
   "execution_count": 46,
   "id": "68d69f34-9df9-4de0-a4ed-4d52e5711d74",
   "metadata": {},
   "outputs": [],
   "source": [
    "df_airbnb = pd.merge(df_cal_list_host,total_reviews, on = 'listing_id', how = 'left' )"
   ]
  },
  {
   "cell_type": "code",
   "execution_count": 47,
   "id": "033be4b0-7229-4dd1-abd8-45a344162c5f",
   "metadata": {},
   "outputs": [
    {
     "data": {
      "text/plain": [
       "(1748, 25)"
      ]
     },
     "execution_count": 47,
     "metadata": {},
     "output_type": "execute_result"
    }
   ],
   "source": [
    "df_airbnb.shape"
   ]
  },
  {
   "cell_type": "code",
   "execution_count": 48,
   "id": "5a58e14a-ed77-4ade-a941-1eb58fe74552",
   "metadata": {},
   "outputs": [
    {
     "data": {
      "text/html": [
       "<div>\n",
       "<style scoped>\n",
       "    .dataframe tbody tr th:only-of-type {\n",
       "        vertical-align: middle;\n",
       "    }\n",
       "\n",
       "    .dataframe tbody tr th {\n",
       "        vertical-align: top;\n",
       "    }\n",
       "\n",
       "    .dataframe thead th {\n",
       "        text-align: right;\n",
       "    }\n",
       "</style>\n",
       "<table border=\"1\" class=\"dataframe\">\n",
       "  <thead>\n",
       "    <tr style=\"text-align: right;\">\n",
       "      <th></th>\n",
       "      <th>listing_id</th>\n",
       "      <th>calender_id</th>\n",
       "      <th>available</th>\n",
       "      <th>price</th>\n",
       "      <th>adjusted_price</th>\n",
       "      <th>minimum_nights</th>\n",
       "      <th>maximum_nights</th>\n",
       "      <th>listing_url</th>\n",
       "      <th>name</th>\n",
       "      <th>description</th>\n",
       "      <th>...</th>\n",
       "      <th>bathrooms_text</th>\n",
       "      <th>bedrooms</th>\n",
       "      <th>beds</th>\n",
       "      <th>amenities</th>\n",
       "      <th>host_id</th>\n",
       "      <th>host_name</th>\n",
       "      <th>host_since</th>\n",
       "      <th>host_location</th>\n",
       "      <th>host_about</th>\n",
       "      <th>total_reviews</th>\n",
       "    </tr>\n",
       "  </thead>\n",
       "  <tbody>\n",
       "    <tr>\n",
       "      <th>0</th>\n",
       "      <td>50904</td>\n",
       "      <td>166029.33</td>\n",
       "      <td>0.0</td>\n",
       "      <td>166.67</td>\n",
       "      <td>158.67</td>\n",
       "      <td>1.00</td>\n",
       "      <td>60.0</td>\n",
       "      <td>https://www.airbnb.com/rooms/50904</td>\n",
       "      <td>aplace/antwerp: cosy suite - fashion district</td>\n",
       "      <td>Decorated in a vintage style combined with a f...</td>\n",
       "      <td>...</td>\n",
       "      <td>1 private bath</td>\n",
       "      <td>1.0</td>\n",
       "      <td>1.0</td>\n",
       "      <td>[\"Kitchen\", \"Smoke alarm\", \"Hair dryer\", \"Keyp...</td>\n",
       "      <td>234077</td>\n",
       "      <td>Karin</td>\n",
       "      <td>2010-09-14</td>\n",
       "      <td>Antwerp, Flanders, Belgium</td>\n",
       "      <td>Ever since my childhood I dreamt of having my ...</td>\n",
       "      <td>2.0</td>\n",
       "    </tr>\n",
       "    <tr>\n",
       "      <th>1</th>\n",
       "      <td>891884</td>\n",
       "      <td>30099.00</td>\n",
       "      <td>0.0</td>\n",
       "      <td>175.00</td>\n",
       "      <td>175.00</td>\n",
       "      <td>1.67</td>\n",
       "      <td>1125.0</td>\n",
       "      <td>https://www.airbnb.com/rooms/891884</td>\n",
       "      <td>aplace/antwerp: amazing suite &amp; square view</td>\n",
       "      <td>This second floor suite with a splendid square...</td>\n",
       "      <td>...</td>\n",
       "      <td>1 private bath</td>\n",
       "      <td>1.0</td>\n",
       "      <td>1.0</td>\n",
       "      <td>[\"Refrigerator\", \"Kitchen\", \"Smoke alarm\", \"Ha...</td>\n",
       "      <td>234077</td>\n",
       "      <td>Karin</td>\n",
       "      <td>2010-09-14</td>\n",
       "      <td>Antwerp, Flanders, Belgium</td>\n",
       "      <td>Ever since my childhood I dreamt of having my ...</td>\n",
       "      <td>2.0</td>\n",
       "    </tr>\n",
       "    <tr>\n",
       "      <th>2</th>\n",
       "      <td>891907</td>\n",
       "      <td>202081.33</td>\n",
       "      <td>1.0</td>\n",
       "      <td>215.00</td>\n",
       "      <td>215.00</td>\n",
       "      <td>3.00</td>\n",
       "      <td>1125.0</td>\n",
       "      <td>https://www.airbnb.com/rooms/891907</td>\n",
       "      <td>aplace/antwerp: stunning flat with square view</td>\n",
       "      <td>While entering this well located flat, you'll ...</td>\n",
       "      <td>...</td>\n",
       "      <td>1.5 baths</td>\n",
       "      <td>2.0</td>\n",
       "      <td>2.0</td>\n",
       "      <td>[\"Refrigerator\", \"Kitchen\", \"Smoke alarm\", \"Ha...</td>\n",
       "      <td>234077</td>\n",
       "      <td>Karin</td>\n",
       "      <td>2010-09-14</td>\n",
       "      <td>Antwerp, Flanders, Belgium</td>\n",
       "      <td>Ever since my childhood I dreamt of having my ...</td>\n",
       "      <td>6.0</td>\n",
       "    </tr>\n",
       "    <tr>\n",
       "      <th>3</th>\n",
       "      <td>2543695</td>\n",
       "      <td>114260.67</td>\n",
       "      <td>1.0</td>\n",
       "      <td>200.00</td>\n",
       "      <td>200.00</td>\n",
       "      <td>2.00</td>\n",
       "      <td>1125.0</td>\n",
       "      <td>https://www.airbnb.com/rooms/2543695</td>\n",
       "      <td>aplace/antwerp: gorgeous flat with square view</td>\n",
       "      <td>While entering this well located flat, you'll ...</td>\n",
       "      <td>...</td>\n",
       "      <td>1.5 baths</td>\n",
       "      <td>2.0</td>\n",
       "      <td>2.0</td>\n",
       "      <td>[\"Refrigerator\", \"Kitchen\", \"Smoke alarm\", \"Ha...</td>\n",
       "      <td>234077</td>\n",
       "      <td>Karin</td>\n",
       "      <td>2010-09-14</td>\n",
       "      <td>Antwerp, Flanders, Belgium</td>\n",
       "      <td>Ever since my childhood I dreamt of having my ...</td>\n",
       "      <td>15.0</td>\n",
       "    </tr>\n",
       "    <tr>\n",
       "      <th>4</th>\n",
       "      <td>116134</td>\n",
       "      <td>173487.67</td>\n",
       "      <td>1.0</td>\n",
       "      <td>150.00</td>\n",
       "      <td>150.00</td>\n",
       "      <td>2.00</td>\n",
       "      <td>1125.0</td>\n",
       "      <td>https://www.airbnb.com/rooms/116134</td>\n",
       "      <td>Spacious apartment nearby Mas</td>\n",
       "      <td>Enjoy your stay at our 4 person apartment in t...</td>\n",
       "      <td>...</td>\n",
       "      <td>2.5 baths</td>\n",
       "      <td>2.0</td>\n",
       "      <td>2.0</td>\n",
       "      <td>[\"Refrigerator\", \"Elevator\", \"Paid street park...</td>\n",
       "      <td>586942</td>\n",
       "      <td>Paul</td>\n",
       "      <td>2011-05-14</td>\n",
       "      <td>Kapellen, Flanders, Belgium</td>\n",
       "      <td>My wife Gina and I will be glad to welcome you...</td>\n",
       "      <td>120.0</td>\n",
       "    </tr>\n",
       "  </tbody>\n",
       "</table>\n",
       "<p>5 rows × 25 columns</p>\n",
       "</div>"
      ],
      "text/plain": [
       "   listing_id  calender_id  available   price  adjusted_price  minimum_nights  \\\n",
       "0       50904    166029.33        0.0  166.67          158.67            1.00   \n",
       "1      891884     30099.00        0.0  175.00          175.00            1.67   \n",
       "2      891907    202081.33        1.0  215.00          215.00            3.00   \n",
       "3     2543695    114260.67        1.0  200.00          200.00            2.00   \n",
       "4      116134    173487.67        1.0  150.00          150.00            2.00   \n",
       "\n",
       "   maximum_nights                           listing_url  \\\n",
       "0            60.0    https://www.airbnb.com/rooms/50904   \n",
       "1          1125.0   https://www.airbnb.com/rooms/891884   \n",
       "2          1125.0   https://www.airbnb.com/rooms/891907   \n",
       "3          1125.0  https://www.airbnb.com/rooms/2543695   \n",
       "4          1125.0   https://www.airbnb.com/rooms/116134   \n",
       "\n",
       "                                             name  \\\n",
       "0   aplace/antwerp: cosy suite - fashion district   \n",
       "1     aplace/antwerp: amazing suite & square view   \n",
       "2  aplace/antwerp: stunning flat with square view   \n",
       "3  aplace/antwerp: gorgeous flat with square view   \n",
       "4                   Spacious apartment nearby Mas   \n",
       "\n",
       "                                         description  ...  bathrooms_text  \\\n",
       "0  Decorated in a vintage style combined with a f...  ...  1 private bath   \n",
       "1  This second floor suite with a splendid square...  ...  1 private bath   \n",
       "2  While entering this well located flat, you'll ...  ...       1.5 baths   \n",
       "3  While entering this well located flat, you'll ...  ...       1.5 baths   \n",
       "4  Enjoy your stay at our 4 person apartment in t...  ...       2.5 baths   \n",
       "\n",
       "   bedrooms beds                                          amenities  host_id  \\\n",
       "0       1.0  1.0  [\"Kitchen\", \"Smoke alarm\", \"Hair dryer\", \"Keyp...   234077   \n",
       "1       1.0  1.0  [\"Refrigerator\", \"Kitchen\", \"Smoke alarm\", \"Ha...   234077   \n",
       "2       2.0  2.0  [\"Refrigerator\", \"Kitchen\", \"Smoke alarm\", \"Ha...   234077   \n",
       "3       2.0  2.0  [\"Refrigerator\", \"Kitchen\", \"Smoke alarm\", \"Ha...   234077   \n",
       "4       2.0  2.0  [\"Refrigerator\", \"Elevator\", \"Paid street park...   586942   \n",
       "\n",
       "  host_name  host_since                host_location  \\\n",
       "0     Karin  2010-09-14   Antwerp, Flanders, Belgium   \n",
       "1     Karin  2010-09-14   Antwerp, Flanders, Belgium   \n",
       "2     Karin  2010-09-14   Antwerp, Flanders, Belgium   \n",
       "3     Karin  2010-09-14   Antwerp, Flanders, Belgium   \n",
       "4      Paul  2011-05-14  Kapellen, Flanders, Belgium   \n",
       "\n",
       "                                          host_about  total_reviews  \n",
       "0  Ever since my childhood I dreamt of having my ...            2.0  \n",
       "1  Ever since my childhood I dreamt of having my ...            2.0  \n",
       "2  Ever since my childhood I dreamt of having my ...            6.0  \n",
       "3  Ever since my childhood I dreamt of having my ...           15.0  \n",
       "4  My wife Gina and I will be glad to welcome you...          120.0  \n",
       "\n",
       "[5 rows x 25 columns]"
      ]
     },
     "execution_count": 48,
     "metadata": {},
     "output_type": "execute_result"
    }
   ],
   "source": [
    "df_airbnb.head()"
   ]
  },
  {
   "cell_type": "code",
   "execution_count": 49,
   "id": "9cd8803f-f9fc-4f94-a774-da5ffcb3214d",
   "metadata": {},
   "outputs": [
    {
     "data": {
      "text/plain": [
       "<AxesSubplot:>"
      ]
     },
     "execution_count": 49,
     "metadata": {},
     "output_type": "execute_result"
    },
    {
     "data": {
      "image/png": "[encoded data removed]",
      "text/plain": [
       "<Figure size 432x288 with 1 Axes>"
      ]
     },
     "metadata": {
      "needs_background": "light"
     },
     "output_type": "display_data"
    }
   ],
   "source": [
    "df_airbnb.isna().sum().plot(kind='bar')"
   ]
  },
  {
   "cell_type": "code",
   "execution_count": 50,
   "id": "0a830b55-a187-4229-b507-6f77f5cb7baf",
   "metadata": {},
   "outputs": [
    {
     "name": "stdout",
     "output_type": "stream",
     "text": [
      "<class 'pandas.core.frame.DataFrame'>\n",
      "Int64Index: 1748 entries, 0 to 1747\n",
      "Data columns (total 25 columns):\n",
      " #   Column          Non-Null Count  Dtype         \n",
      "---  ------          --------------  -----         \n",
      " 0   listing_id      1748 non-null   int64         \n",
      " 1   calender_id     1748 non-null   float64       \n",
      " 2   available       1748 non-null   float64       \n",
      " 3   price           1748 non-null   float64       \n",
      " 4   adjusted_price  1748 non-null   float64       \n",
      " 5   minimum_nights  1748 non-null   float64       \n",
      " 6   maximum_nights  1748 non-null   float64       \n",
      " 7   listing_url     1748 non-null   object        \n",
      " 8   name            1748 non-null   object        \n",
      " 9   description     1678 non-null   object        \n",
      " 10  latitude        1748 non-null   float64       \n",
      " 11  longitude       1748 non-null   float64       \n",
      " 12  property_type   1748 non-null   object        \n",
      " 13  room_type       1748 non-null   object        \n",
      " 14  accomodates     1748 non-null   int64         \n",
      " 15  bathrooms_text  1748 non-null   object        \n",
      " 16  bedrooms        1620 non-null   float64       \n",
      " 17  beds            1707 non-null   float64       \n",
      " 18  amenities       1748 non-null   object        \n",
      " 19  host_id         1748 non-null   int64         \n",
      " 20  host_name       1748 non-null   object        \n",
      " 21  host_since      1748 non-null   datetime64[ns]\n",
      " 22  host_location   1745 non-null   object        \n",
      " 23  host_about      864 non-null    object        \n",
      " 24  total_reviews   1525 non-null   float64       \n",
      "dtypes: datetime64[ns](1), float64(11), int64(3), object(10)\n",
      "memory usage: 355.1+ KB\n"
     ]
    }
   ],
   "source": [
    "df_airbnb.info()"
   ]
  },
  {
   "cell_type": "code",
   "execution_count": 51,
   "id": "7144f521-3b9b-405c-bdf6-8eb449c47813",
   "metadata": {},
   "outputs": [],
   "source": [
    "df_airbnb.to_csv(\"airbnb.csv\",index = False)"
   ]
  },
  {
   "cell_type": "markdown",
   "id": "7e89966c-224d-4813-9aa2-3efc9a1513fe",
   "metadata": {},
   "source": [
    "### Final data is now ready for quality checks and feature enginnering, and we will continue the same in the next notebook"
   ]
  },
  {
   "cell_type": "code",
   "execution_count": null,
   "id": "49d779b4-10f3-43c8-834d-e10bbcc327d3",
   "metadata": {},
   "outputs": [],
   "source": []
  }
 ],
 "metadata": {
  "kernelspec": {
   "display_name": "Python 3 (ipykernel)",
   "language": "python",
   "name": "python3"
  },
  "language_info": {
   "codemirror_mode": {
    "name": "ipython",
    "version": 3
   },
   "file_extension": ".py",
   "mimetype": "text/x-python",
   "name": "python",
   "nbconvert_exporter": "python",
   "pygments_lexer": "ipython3",
   "version": "3.9.7"
  }
 },
 "nbformat": 4,
 "nbformat_minor": 5
}
