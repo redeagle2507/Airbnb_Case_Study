{
 "cells": [
  {
   "cell_type": "markdown",
   "id": "2e9a3cc2-e705-40b8-966a-5c42ff8552ef",
   "metadata": {},
   "source": [
    "# Modelling and insights :\n",
    "\n",
    "\n",
    "##### Training the data and generating insights"
   ]
  },
  {
   "cell_type": "code",
   "execution_count": 1,
   "id": "a8215130-8cd1-4eb1-991e-a715114178e4",
   "metadata": {},
   "outputs": [],
   "source": [
    "import pandas as pd\n",
    "import numpy as np\n",
    "import matplotlib.pyplot as plt "
   ]
  },
  {
   "cell_type": "code",
   "execution_count": 2,
   "id": "01c61b43-b20a-4a69-b12a-c306850f6992",
   "metadata": {},
   "outputs": [],
   "source": [
    "df = pd.read_csv(r'C:\\Users\\borrasai\\Documents\\airbnb_train_dataset.csv')"
   ]
  },
  {
   "cell_type": "code",
   "execution_count": 3,
   "id": "ffc04a4b-6829-4327-aa73-aa2f9fcc16bc",
   "metadata": {},
   "outputs": [
    {
     "data": {
      "text/html": [
       "<div>\n",
       "<style scoped>\n",
       "    .dataframe tbody tr th:only-of-type {\n",
       "        vertical-align: middle;\n",
       "    }\n",
       "\n",
       "    .dataframe tbody tr th {\n",
       "        vertical-align: top;\n",
       "    }\n",
       "\n",
       "    .dataframe thead th {\n",
       "        text-align: right;\n",
       "    }\n",
       "</style>\n",
       "<table border=\"1\" class=\"dataframe\">\n",
       "  <thead>\n",
       "    <tr style=\"text-align: right;\">\n",
       "      <th></th>\n",
       "      <th>available</th>\n",
       "      <th>price</th>\n",
       "      <th>minimum_nights</th>\n",
       "      <th>maximum_nights</th>\n",
       "      <th>room_type</th>\n",
       "      <th>accomodates</th>\n",
       "      <th>bedrooms</th>\n",
       "      <th>beds</th>\n",
       "      <th>total_reviews</th>\n",
       "      <th>join_age</th>\n",
       "      <th>no_of_bath</th>\n",
       "    </tr>\n",
       "  </thead>\n",
       "  <tbody>\n",
       "    <tr>\n",
       "      <th>0</th>\n",
       "      <td>0.0</td>\n",
       "      <td>166.67</td>\n",
       "      <td>1.00</td>\n",
       "      <td>60.0</td>\n",
       "      <td>Hotel room</td>\n",
       "      <td>2</td>\n",
       "      <td>1.000000</td>\n",
       "      <td>1.0</td>\n",
       "      <td>2.0</td>\n",
       "      <td>4241</td>\n",
       "      <td>1.0</td>\n",
       "    </tr>\n",
       "    <tr>\n",
       "      <th>1</th>\n",
       "      <td>0.0</td>\n",
       "      <td>175.00</td>\n",
       "      <td>1.67</td>\n",
       "      <td>1125.0</td>\n",
       "      <td>Hotel room</td>\n",
       "      <td>2</td>\n",
       "      <td>1.000000</td>\n",
       "      <td>1.0</td>\n",
       "      <td>2.0</td>\n",
       "      <td>4241</td>\n",
       "      <td>1.0</td>\n",
       "    </tr>\n",
       "    <tr>\n",
       "      <th>2</th>\n",
       "      <td>1.0</td>\n",
       "      <td>215.00</td>\n",
       "      <td>3.00</td>\n",
       "      <td>1125.0</td>\n",
       "      <td>Entire home/apt</td>\n",
       "      <td>4</td>\n",
       "      <td>2.000000</td>\n",
       "      <td>2.0</td>\n",
       "      <td>6.0</td>\n",
       "      <td>4241</td>\n",
       "      <td>1.5</td>\n",
       "    </tr>\n",
       "    <tr>\n",
       "      <th>3</th>\n",
       "      <td>1.0</td>\n",
       "      <td>200.00</td>\n",
       "      <td>2.00</td>\n",
       "      <td>1125.0</td>\n",
       "      <td>Entire home/apt</td>\n",
       "      <td>4</td>\n",
       "      <td>2.000000</td>\n",
       "      <td>2.0</td>\n",
       "      <td>15.0</td>\n",
       "      <td>4241</td>\n",
       "      <td>1.5</td>\n",
       "    </tr>\n",
       "    <tr>\n",
       "      <th>4</th>\n",
       "      <td>1.0</td>\n",
       "      <td>150.00</td>\n",
       "      <td>2.00</td>\n",
       "      <td>1125.0</td>\n",
       "      <td>Entire home/apt</td>\n",
       "      <td>4</td>\n",
       "      <td>2.000000</td>\n",
       "      <td>2.0</td>\n",
       "      <td>120.0</td>\n",
       "      <td>3999</td>\n",
       "      <td>2.5</td>\n",
       "    </tr>\n",
       "    <tr>\n",
       "      <th>...</th>\n",
       "      <td>...</td>\n",
       "      <td>...</td>\n",
       "      <td>...</td>\n",
       "      <td>...</td>\n",
       "      <td>...</td>\n",
       "      <td>...</td>\n",
       "      <td>...</td>\n",
       "      <td>...</td>\n",
       "      <td>...</td>\n",
       "      <td>...</td>\n",
       "      <td>...</td>\n",
       "    </tr>\n",
       "    <tr>\n",
       "      <th>1740</th>\n",
       "      <td>1.0</td>\n",
       "      <td>50.00</td>\n",
       "      <td>1.00</td>\n",
       "      <td>365.0</td>\n",
       "      <td>Entire home/apt</td>\n",
       "      <td>2</td>\n",
       "      <td>1.000000</td>\n",
       "      <td>1.0</td>\n",
       "      <td>0.0</td>\n",
       "      <td>1578</td>\n",
       "      <td>1.0</td>\n",
       "    </tr>\n",
       "    <tr>\n",
       "      <th>1741</th>\n",
       "      <td>1.0</td>\n",
       "      <td>88.00</td>\n",
       "      <td>3.00</td>\n",
       "      <td>365.0</td>\n",
       "      <td>Entire home/apt</td>\n",
       "      <td>2</td>\n",
       "      <td>1.000000</td>\n",
       "      <td>1.0</td>\n",
       "      <td>0.0</td>\n",
       "      <td>2388</td>\n",
       "      <td>1.5</td>\n",
       "    </tr>\n",
       "    <tr>\n",
       "      <th>1742</th>\n",
       "      <td>1.0</td>\n",
       "      <td>49.00</td>\n",
       "      <td>20.00</td>\n",
       "      <td>1125.0</td>\n",
       "      <td>Entire home/apt</td>\n",
       "      <td>2</td>\n",
       "      <td>1.055402</td>\n",
       "      <td>1.0</td>\n",
       "      <td>0.0</td>\n",
       "      <td>2159</td>\n",
       "      <td>1.0</td>\n",
       "    </tr>\n",
       "    <tr>\n",
       "      <th>1743</th>\n",
       "      <td>1.0</td>\n",
       "      <td>990.00</td>\n",
       "      <td>2.00</td>\n",
       "      <td>1125.0</td>\n",
       "      <td>Entire home/apt</td>\n",
       "      <td>16</td>\n",
       "      <td>7.000000</td>\n",
       "      <td>33.0</td>\n",
       "      <td>0.0</td>\n",
       "      <td>511</td>\n",
       "      <td>7.5</td>\n",
       "    </tr>\n",
       "    <tr>\n",
       "      <th>1744</th>\n",
       "      <td>1.0</td>\n",
       "      <td>150.00</td>\n",
       "      <td>3.00</td>\n",
       "      <td>365.0</td>\n",
       "      <td>Entire home/apt</td>\n",
       "      <td>3</td>\n",
       "      <td>1.000000</td>\n",
       "      <td>1.0</td>\n",
       "      <td>0.0</td>\n",
       "      <td>122</td>\n",
       "      <td>1.5</td>\n",
       "    </tr>\n",
       "  </tbody>\n",
       "</table>\n",
       "<p>1745 rows × 11 columns</p>\n",
       "</div>"
      ],
      "text/plain": [
       "      available   price  minimum_nights  maximum_nights        room_type  \\\n",
       "0           0.0  166.67            1.00            60.0       Hotel room   \n",
       "1           0.0  175.00            1.67          1125.0       Hotel room   \n",
       "2           1.0  215.00            3.00          1125.0  Entire home/apt   \n",
       "3           1.0  200.00            2.00          1125.0  Entire home/apt   \n",
       "4           1.0  150.00            2.00          1125.0  Entire home/apt   \n",
       "...         ...     ...             ...             ...              ...   \n",
       "1740        1.0   50.00            1.00           365.0  Entire home/apt   \n",
       "1741        1.0   88.00            3.00           365.0  Entire home/apt   \n",
       "1742        1.0   49.00           20.00          1125.0  Entire home/apt   \n",
       "1743        1.0  990.00            2.00          1125.0  Entire home/apt   \n",
       "1744        1.0  150.00            3.00           365.0  Entire home/apt   \n",
       "\n",
       "      accomodates  bedrooms  beds  total_reviews  join_age  no_of_bath  \n",
       "0               2  1.000000   1.0            2.0      4241         1.0  \n",
       "1               2  1.000000   1.0            2.0      4241         1.0  \n",
       "2               4  2.000000   2.0            6.0      4241         1.5  \n",
       "3               4  2.000000   2.0           15.0      4241         1.5  \n",
       "4               4  2.000000   2.0          120.0      3999         2.5  \n",
       "...           ...       ...   ...            ...       ...         ...  \n",
       "1740            2  1.000000   1.0            0.0      1578         1.0  \n",
       "1741            2  1.000000   1.0            0.0      2388         1.5  \n",
       "1742            2  1.055402   1.0            0.0      2159         1.0  \n",
       "1743           16  7.000000  33.0            0.0       511         7.5  \n",
       "1744            3  1.000000   1.0            0.0       122         1.5  \n",
       "\n",
       "[1745 rows x 11 columns]"
      ]
     },
     "execution_count": 3,
     "metadata": {},
     "output_type": "execute_result"
    }
   ],
   "source": [
    "df"
   ]
  },
  {
   "cell_type": "code",
   "execution_count": 4,
   "id": "f526c62b-b184-4170-a04d-655d230e9ffe",
   "metadata": {},
   "outputs": [
    {
     "name": "stdout",
     "output_type": "stream",
     "text": [
      "<class 'pandas.core.frame.DataFrame'>\n",
      "RangeIndex: 1745 entries, 0 to 1744\n",
      "Data columns (total 11 columns):\n",
      " #   Column          Non-Null Count  Dtype  \n",
      "---  ------          --------------  -----  \n",
      " 0   available       1745 non-null   float64\n",
      " 1   price           1745 non-null   float64\n",
      " 2   minimum_nights  1745 non-null   float64\n",
      " 3   maximum_nights  1745 non-null   float64\n",
      " 4   room_type       1745 non-null   object \n",
      " 5   accomodates     1745 non-null   int64  \n",
      " 6   bedrooms        1745 non-null   float64\n",
      " 7   beds            1745 non-null   float64\n",
      " 8   total_reviews   1745 non-null   float64\n",
      " 9   join_age        1745 non-null   int64  \n",
      " 10  no_of_bath      1745 non-null   float64\n",
      "dtypes: float64(8), int64(2), object(1)\n",
      "memory usage: 150.1+ KB\n"
     ]
    }
   ],
   "source": [
    "df.info()"
   ]
  },
  {
   "cell_type": "markdown",
   "id": "60f5153c-cfbd-4054-8b4b-dfae955469b8",
   "metadata": {},
   "source": [
    "### Converting data to categorical"
   ]
  },
  {
   "cell_type": "code",
   "execution_count": 5,
   "id": "45109474-68c5-412a-97a8-38dae9c3bce7",
   "metadata": {},
   "outputs": [],
   "source": [
    "df['available'] = pd.Categorical(df.available)\n",
    "df['room_type'] = pd.Categorical(df.room_type)\n",
    "df['accomodates'] = pd.Categorical(df.accomodates)\n",
    "df['bedrooms'] = pd.Categorical(df.bedrooms)\n",
    "df['beds'] = pd.Categorical(df.beds)"
   ]
  },
  {
   "cell_type": "code",
   "execution_count": 6,
   "id": "66788a24-70b9-418b-94dc-2003d0718233",
   "metadata": {},
   "outputs": [
    {
     "name": "stdout",
     "output_type": "stream",
     "text": [
      "<class 'pandas.core.frame.DataFrame'>\n",
      "RangeIndex: 1745 entries, 0 to 1744\n",
      "Data columns (total 11 columns):\n",
      " #   Column          Non-Null Count  Dtype   \n",
      "---  ------          --------------  -----   \n",
      " 0   available       1745 non-null   category\n",
      " 1   price           1745 non-null   float64 \n",
      " 2   minimum_nights  1745 non-null   float64 \n",
      " 3   maximum_nights  1745 non-null   float64 \n",
      " 4   room_type       1745 non-null   category\n",
      " 5   accomodates     1745 non-null   category\n",
      " 6   bedrooms        1745 non-null   category\n",
      " 7   beds            1745 non-null   category\n",
      " 8   total_reviews   1745 non-null   float64 \n",
      " 9   join_age        1745 non-null   int64   \n",
      " 10  no_of_bath      1745 non-null   float64 \n",
      "dtypes: category(5), float64(5), int64(1)\n",
      "memory usage: 92.9 KB\n"
     ]
    }
   ],
   "source": [
    "df.info()"
   ]
  },
  {
   "cell_type": "markdown",
   "id": "2584b2dc-ebb6-4d94-ade8-f8e48672bdf0",
   "metadata": {},
   "source": [
    "## Train Test Split\n"
   ]
  },
  {
   "cell_type": "code",
   "execution_count": 7,
   "id": "7ee6889a-6fc1-4593-9509-cc0179dcb877",
   "metadata": {},
   "outputs": [],
   "source": [
    "from sklearn.model_selection import train_test_split\n",
    "from math import sqrt"
   ]
  },
  {
   "cell_type": "code",
   "execution_count": 8,
   "id": "231a71f1-3de6-4f12-9c61-e4b4d29a9a71",
   "metadata": {},
   "outputs": [],
   "source": [
    "df = pd.get_dummies(df)"
   ]
  },
  {
   "cell_type": "code",
   "execution_count": 9,
   "id": "0ac0e26c-a3f6-4561-84aa-2b5c8bf31da8",
   "metadata": {},
   "outputs": [],
   "source": [
    "X = df.drop(['price'],axis=1)\n",
    "y = df['price']"
   ]
  },
  {
   "cell_type": "code",
   "execution_count": 10,
   "id": "2b0f3fc9-1cd5-431a-a2ac-96a63e5daafd",
   "metadata": {},
   "outputs": [],
   "source": [
    "X_train, X_test, y_train, y_test = train_test_split(X, y, test_size=0.25, random_state=42)"
   ]
  },
  {
   "cell_type": "markdown",
   "id": "f6d0c42d-0e29-4da7-9141-8e2d9d9b32ec",
   "metadata": {},
   "source": [
    "## Modelling the data"
   ]
  },
  {
   "cell_type": "markdown",
   "id": "de35c465-c7e8-4d97-b139-1c431530c448",
   "metadata": {},
   "source": [
    "#### Linear Regression"
   ]
  },
  {
   "cell_type": "code",
   "execution_count": 11,
   "id": "a7169158-ae07-46a3-9001-226c81999297",
   "metadata": {},
   "outputs": [],
   "source": [
    "from sklearn.linear_model import LinearRegression\n",
    "from sklearn.metrics import mean_squared_error"
   ]
  },
  {
   "cell_type": "code",
   "execution_count": 12,
   "id": "1280ec7e-a58b-42d7-8ae7-f0b583d4c91d",
   "metadata": {},
   "outputs": [],
   "source": [
    "reg = LinearRegression()\n",
    "model = reg.fit(X_train, y_train)"
   ]
  },
  {
   "cell_type": "code",
   "execution_count": 13,
   "id": "dffe3bad-04fd-42c0-bc1d-a31a61c2709e",
   "metadata": {},
   "outputs": [
    {
     "data": {
      "text/plain": [
       "0.2784360830744177"
      ]
     },
     "execution_count": 13,
     "metadata": {},
     "output_type": "execute_result"
    }
   ],
   "source": [
    "model.score(X_train, y_train)"
   ]
  },
  {
   "cell_type": "code",
   "execution_count": 14,
   "id": "dd6ba841-965f-4113-8c36-3b4210fecfb8",
   "metadata": {},
   "outputs": [
    {
     "data": {
      "text/plain": [
       "129.5525754256359"
      ]
     },
     "execution_count": 14,
     "metadata": {},
     "output_type": "execute_result"
    }
   ],
   "source": [
    "model.intercept_"
   ]
  },
  {
   "cell_type": "code",
   "execution_count": 15,
   "id": "1200ef3e-e265-4601-b43f-6299338a8a2d",
   "metadata": {},
   "outputs": [
    {
     "data": {
      "text/plain": [
       "array([-8.17697563e-02,  1.11654523e-02, -1.39769767e-01, -2.10131954e-02,\n",
       "        5.51816673e+01, -1.44438560e+01,  3.95594513e+01, -1.45364927e+00,\n",
       "       -2.36619461e+01, -7.40734816e+00,  3.25951988e+01,  9.93158268e+00,\n",
       "       -3.51194333e+01, -1.05788207e+02, -4.79272263e+01, -4.28949764e+01,\n",
       "       -2.12786253e+01, -4.38157160e+01, -7.36594670e+00, -1.45773957e+01,\n",
       "        7.22719015e+01, -3.70138116e+01,  4.00061047e+01, -1.61943483e+01,\n",
       "       -6.64045999e+01, -1.46469865e+02, -9.18763362e+01,  5.29329049e+02,\n",
       "       -2.84331306e+02, -2.84329468e+02, -3.05648525e+02, -3.01947543e+02,\n",
       "       -2.29020686e+02, -2.66010066e+02,  1.07653213e+02, -4.18998024e+02,\n",
       "       -3.09393871e+02, -2.08555225e+02, -2.83028341e+02, -7.34047701e+01,\n",
       "        2.59204757e+02,  9.89981298e+02, -2.10327608e+02,  2.69279943e+03,\n",
       "        4.68009188e+02, -9.56888798e+02, -3.85763650e+02,  4.54747351e-13,\n",
       "        3.06835193e+02,  5.40297260e+02,  2.54975715e+02,  2.74547326e+02,\n",
       "        2.84967964e+02,  2.72395137e+02,  2.51130482e+02,  1.70372199e+02,\n",
       "        2.52523640e+02,  2.41658773e+02,  3.77605220e+02,  1.94520073e+02,\n",
       "       -1.45961246e+03, -2.01605398e+02,  2.37613540e+02, -2.25635412e+02,\n",
       "        6.11247932e+02, -3.85763650e+02,  3.50017907e+02,  0.00000000e+00,\n",
       "       -1.09444785e+03, -2.10327608e+02, -1.04331598e+03,  0.00000000e+00])"
      ]
     },
     "execution_count": 15,
     "metadata": {},
     "output_type": "execute_result"
    }
   ],
   "source": [
    "model.coef_"
   ]
  },
  {
   "cell_type": "code",
   "execution_count": 16,
   "id": "5723152a-686e-4b8b-af5c-d0d7207d862a",
   "metadata": {},
   "outputs": [],
   "source": [
    "predicted = model.predict(X_test)"
   ]
  },
  {
   "cell_type": "code",
   "execution_count": 17,
   "id": "ce6c6b5c-6bfb-457f-b7ed-5c234f7f2562",
   "metadata": {},
   "outputs": [
    {
     "data": {
      "text/plain": [
       "41344.82428885469"
      ]
     },
     "execution_count": 17,
     "metadata": {},
     "output_type": "execute_result"
    }
   ],
   "source": [
    "mse = mean_squared_error(y_test, predicted)\n",
    "mse"
   ]
  },
  {
   "cell_type": "code",
   "execution_count": 18,
   "id": "e4bb675b-a3c4-4919-8ff2-42c3dac08fc0",
   "metadata": {},
   "outputs": [
    {
     "data": {
      "text/plain": [
       "203.33426737481975"
      ]
     },
     "execution_count": 18,
     "metadata": {},
     "output_type": "execute_result"
    }
   ],
   "source": [
    "rmse = sqrt(mse)\n",
    "rmse"
   ]
  },
  {
   "cell_type": "code",
   "execution_count": 19,
   "id": "94b122f7-ce3c-4a91-a915-9d5c5aa39f2c",
   "metadata": {},
   "outputs": [
    {
     "data": {
      "text/html": [
       "<div>\n",
       "<style scoped>\n",
       "    .dataframe tbody tr th:only-of-type {\n",
       "        vertical-align: middle;\n",
       "    }\n",
       "\n",
       "    .dataframe tbody tr th {\n",
       "        vertical-align: top;\n",
       "    }\n",
       "\n",
       "    .dataframe thead th {\n",
       "        text-align: right;\n",
       "    }\n",
       "</style>\n",
       "<table border=\"1\" class=\"dataframe\">\n",
       "  <thead>\n",
       "    <tr style=\"text-align: right;\">\n",
       "      <th></th>\n",
       "      <th>Linear Regression</th>\n",
       "    </tr>\n",
       "  </thead>\n",
       "  <tbody>\n",
       "    <tr>\n",
       "      <th>0</th>\n",
       "      <td>203.334267</td>\n",
       "    </tr>\n",
       "  </tbody>\n",
       "</table>\n",
       "</div>"
      ],
      "text/plain": [
       "   Linear Regression\n",
       "0         203.334267"
      ]
     },
     "execution_count": 19,
     "metadata": {},
     "output_type": "execute_result"
    }
   ],
   "source": [
    "# Making a Dataframe for scores\n",
    "df_score = pd.DataFrame({\"Linear Regression\":[rmse]})\n",
    "df_score"
   ]
  },
  {
   "cell_type": "markdown",
   "id": "0f002d6f-bbbb-4688-a726-d74a71bc05a2",
   "metadata": {},
   "source": [
    "## Regressor Tree "
   ]
  },
  {
   "cell_type": "code",
   "execution_count": 20,
   "id": "35ed178b-dcbe-4558-aeb3-6586c055d477",
   "metadata": {},
   "outputs": [],
   "source": [
    "from sklearn.tree import DecisionTreeRegressor"
   ]
  },
  {
   "cell_type": "code",
   "execution_count": 21,
   "id": "54d7942b-19cf-447d-8910-7c7f0fcee7c9",
   "metadata": {},
   "outputs": [],
   "source": [
    "regressor = DecisionTreeRegressor(random_state=0)"
   ]
  },
  {
   "cell_type": "code",
   "execution_count": 22,
   "id": "ab7b3cd1-fa7a-4638-8e99-2e5375e854fa",
   "metadata": {},
   "outputs": [],
   "source": [
    "model = regressor.fit(X_train, y_train)"
   ]
  },
  {
   "cell_type": "code",
   "execution_count": 23,
   "id": "ec1eca5a-dfe9-4da5-996e-948f4991736d",
   "metadata": {},
   "outputs": [
    {
     "data": {
      "text/plain": [
       "DecisionTreeRegressor(random_state=0)"
      ]
     },
     "execution_count": 23,
     "metadata": {},
     "output_type": "execute_result"
    }
   ],
   "source": [
    "model"
   ]
  },
  {
   "cell_type": "code",
   "execution_count": 24,
   "id": "e497d650-c9b7-4603-918c-37c32b12f9c2",
   "metadata": {},
   "outputs": [],
   "source": [
    "predicted = model.predict(X_test)"
   ]
  },
  {
   "cell_type": "code",
   "execution_count": 25,
   "id": "8adf519c-8dee-44d3-b84d-81a47967eac3",
   "metadata": {},
   "outputs": [
    {
     "data": {
      "text/plain": [
       "245056.19821790617"
      ]
     },
     "execution_count": 25,
     "metadata": {},
     "output_type": "execute_result"
    }
   ],
   "source": [
    "mse = mean_squared_error(y_test, predicted)\n",
    "mse"
   ]
  },
  {
   "cell_type": "code",
   "execution_count": 26,
   "id": "00d17d29-7257-4613-ad41-866dd53c893a",
   "metadata": {},
   "outputs": [
    {
     "data": {
      "text/plain": [
       "495.0315123483617"
      ]
     },
     "execution_count": 26,
     "metadata": {},
     "output_type": "execute_result"
    }
   ],
   "source": [
    "rmse = sqrt(mse)\n",
    "rmse"
   ]
  },
  {
   "cell_type": "markdown",
   "id": "78087129-0c21-4444-9b7a-42ecc32087e2",
   "metadata": {},
   "source": [
    "#### the model didnt give postive results compared to Linear regression"
   ]
  },
  {
   "cell_type": "code",
   "execution_count": 27,
   "id": "f6056f5e-86d9-4f02-ab2e-39ed4e60d5b9",
   "metadata": {},
   "outputs": [
    {
     "data": {
      "text/html": [
       "<div>\n",
       "<style scoped>\n",
       "    .dataframe tbody tr th:only-of-type {\n",
       "        vertical-align: middle;\n",
       "    }\n",
       "\n",
       "    .dataframe tbody tr th {\n",
       "        vertical-align: top;\n",
       "    }\n",
       "\n",
       "    .dataframe thead th {\n",
       "        text-align: right;\n",
       "    }\n",
       "</style>\n",
       "<table border=\"1\" class=\"dataframe\">\n",
       "  <thead>\n",
       "    <tr style=\"text-align: right;\">\n",
       "      <th></th>\n",
       "      <th>Linear Regression</th>\n",
       "      <th>Decision Tree</th>\n",
       "    </tr>\n",
       "  </thead>\n",
       "  <tbody>\n",
       "    <tr>\n",
       "      <th>0</th>\n",
       "      <td>203.334267</td>\n",
       "      <td>495.031512</td>\n",
       "    </tr>\n",
       "  </tbody>\n",
       "</table>\n",
       "</div>"
      ],
      "text/plain": [
       "   Linear Regression  Decision Tree\n",
       "0         203.334267     495.031512"
      ]
     },
     "execution_count": 27,
     "metadata": {},
     "output_type": "execute_result"
    }
   ],
   "source": [
    "# Adding to the Dataframe for scores\n",
    "df_score[\"Decision Tree\"] = [rmse]\n",
    "df_score"
   ]
  },
  {
   "cell_type": "markdown",
   "id": "208672af-84cb-4baa-ae81-ffb26e79617f",
   "metadata": {},
   "source": [
    "## Random Forest Regressor"
   ]
  },
  {
   "cell_type": "code",
   "execution_count": 28,
   "id": "797448ef-1652-4096-b44e-e60cd92442f2",
   "metadata": {},
   "outputs": [],
   "source": [
    "from sklearn.ensemble import RandomForestRegressor\n",
    "regr = RandomForestRegressor(max_depth=2, random_state=0)"
   ]
  },
  {
   "cell_type": "code",
   "execution_count": 29,
   "id": "d79dd97b-7be3-4283-940e-3585a414afb2",
   "metadata": {},
   "outputs": [
    {
     "data": {
      "text/plain": [
       "RandomForestRegressor(max_depth=2, random_state=0)"
      ]
     },
     "execution_count": 29,
     "metadata": {},
     "output_type": "execute_result"
    }
   ],
   "source": [
    "model = regr.fit(X_train, y_train)\n",
    "model"
   ]
  },
  {
   "cell_type": "code",
   "execution_count": 30,
   "id": "d275441c-dffb-4151-b3ef-2948cb7d3697",
   "metadata": {},
   "outputs": [],
   "source": [
    "predicted = model.predict(X_test)"
   ]
  },
  {
   "cell_type": "code",
   "execution_count": 31,
   "id": "daa62b62-b000-46b9-86f9-75b1bef89fb1",
   "metadata": {},
   "outputs": [
    {
     "data": {
      "text/plain": [
       "18531.374510240177"
      ]
     },
     "execution_count": 31,
     "metadata": {},
     "output_type": "execute_result"
    }
   ],
   "source": [
    "mse = mean_squared_error(y_test, predicted)\n",
    "mse"
   ]
  },
  {
   "cell_type": "code",
   "execution_count": 32,
   "id": "2b9fe6c3-160f-47e9-8727-16b93b08dd9a",
   "metadata": {},
   "outputs": [
    {
     "data": {
      "text/plain": [
       "136.12999122250827"
      ]
     },
     "execution_count": 32,
     "metadata": {},
     "output_type": "execute_result"
    }
   ],
   "source": [
    "rmse = sqrt(mse)\n",
    "rmse"
   ]
  },
  {
   "cell_type": "code",
   "execution_count": 33,
   "id": "b5d825ae-813f-41dc-867e-13809a5fbe70",
   "metadata": {},
   "outputs": [
    {
     "data": {
      "text/html": [
       "<div>\n",
       "<style scoped>\n",
       "    .dataframe tbody tr th:only-of-type {\n",
       "        vertical-align: middle;\n",
       "    }\n",
       "\n",
       "    .dataframe tbody tr th {\n",
       "        vertical-align: top;\n",
       "    }\n",
       "\n",
       "    .dataframe thead th {\n",
       "        text-align: right;\n",
       "    }\n",
       "</style>\n",
       "<table border=\"1\" class=\"dataframe\">\n",
       "  <thead>\n",
       "    <tr style=\"text-align: right;\">\n",
       "      <th></th>\n",
       "      <th>Linear Regression</th>\n",
       "      <th>Decision Tree</th>\n",
       "      <th>Random Forest</th>\n",
       "    </tr>\n",
       "  </thead>\n",
       "  <tbody>\n",
       "    <tr>\n",
       "      <th>0</th>\n",
       "      <td>203.334267</td>\n",
       "      <td>495.031512</td>\n",
       "      <td>136.129991</td>\n",
       "    </tr>\n",
       "  </tbody>\n",
       "</table>\n",
       "</div>"
      ],
      "text/plain": [
       "   Linear Regression  Decision Tree  Random Forest\n",
       "0         203.334267     495.031512     136.129991"
      ]
     },
     "execution_count": 33,
     "metadata": {},
     "output_type": "execute_result"
    }
   ],
   "source": [
    "# Adding to the Dataframe for scores\n",
    "df_score[\"Random Forest\"] = [rmse]\n",
    "df_score"
   ]
  },
  {
   "cell_type": "markdown",
   "id": "53b7f798-8234-45f7-81bb-4ca84319c8e5",
   "metadata": {},
   "source": [
    "#### Random forest has given good score..so far better compared to other two"
   ]
  },
  {
   "cell_type": "markdown",
   "id": "5058926a-dc33-4775-a695-89ec5afddda6",
   "metadata": {},
   "source": [
    "## GBM"
   ]
  },
  {
   "cell_type": "markdown",
   "id": "31cfca92-0929-47b4-92a7-3d02456029e1",
   "metadata": {},
   "source": [
    "#### Trying the last option of Gradient Boosting Regressor against given dataset and check if we get good results"
   ]
  },
  {
   "cell_type": "code",
   "execution_count": 34,
   "id": "c30a51e7-6090-4950-b985-0aa8f9a4eb44",
   "metadata": {},
   "outputs": [],
   "source": [
    "from sklearn.ensemble import GradientBoostingRegressor\n",
    "reg = GradientBoostingRegressor(random_state=0)"
   ]
  },
  {
   "cell_type": "code",
   "execution_count": 35,
   "id": "13868901-7535-4003-952b-3977a9541955",
   "metadata": {},
   "outputs": [
    {
     "data": {
      "text/plain": [
       "GradientBoostingRegressor(random_state=0)"
      ]
     },
     "execution_count": 35,
     "metadata": {},
     "output_type": "execute_result"
    }
   ],
   "source": [
    "model = reg.fit(X_train, y_train)\n",
    "model"
   ]
  },
  {
   "cell_type": "code",
   "execution_count": 36,
   "id": "02fa09ae-d8e4-4a5a-bee4-e70fed586068",
   "metadata": {},
   "outputs": [],
   "source": [
    "predicted = model.predict(X_test)"
   ]
  },
  {
   "cell_type": "code",
   "execution_count": 37,
   "id": "f7f19bfe-3a0d-47f0-9db3-84ddb0fd650e",
   "metadata": {},
   "outputs": [
    {
     "data": {
      "text/plain": [
       "17041.037859431923"
      ]
     },
     "execution_count": 37,
     "metadata": {},
     "output_type": "execute_result"
    }
   ],
   "source": [
    "mse = mean_squared_error(y_test, predicted)\n",
    "mse"
   ]
  },
  {
   "cell_type": "code",
   "execution_count": 38,
   "id": "df656192-a4c6-4454-81c6-dac6ed5af21f",
   "metadata": {},
   "outputs": [
    {
     "data": {
      "text/plain": [
       "130.54132625123708"
      ]
     },
     "execution_count": 38,
     "metadata": {},
     "output_type": "execute_result"
    }
   ],
   "source": [
    "rmse = sqrt(mse)\n",
    "rmse"
   ]
  },
  {
   "cell_type": "code",
   "execution_count": 39,
   "id": "546679a1-0a52-46e7-b27e-c6011b5b7a81",
   "metadata": {},
   "outputs": [
    {
     "data": {
      "text/html": [
       "<div>\n",
       "<style scoped>\n",
       "    .dataframe tbody tr th:only-of-type {\n",
       "        vertical-align: middle;\n",
       "    }\n",
       "\n",
       "    .dataframe tbody tr th {\n",
       "        vertical-align: top;\n",
       "    }\n",
       "\n",
       "    .dataframe thead th {\n",
       "        text-align: right;\n",
       "    }\n",
       "</style>\n",
       "<table border=\"1\" class=\"dataframe\">\n",
       "  <thead>\n",
       "    <tr style=\"text-align: right;\">\n",
       "      <th></th>\n",
       "      <th>Linear Regression</th>\n",
       "      <th>Decision Tree</th>\n",
       "      <th>Random Forest</th>\n",
       "      <th>Gradient Boosting</th>\n",
       "    </tr>\n",
       "  </thead>\n",
       "  <tbody>\n",
       "    <tr>\n",
       "      <th>0</th>\n",
       "      <td>203.334267</td>\n",
       "      <td>495.031512</td>\n",
       "      <td>136.129991</td>\n",
       "      <td>130.541326</td>\n",
       "    </tr>\n",
       "  </tbody>\n",
       "</table>\n",
       "</div>"
      ],
      "text/plain": [
       "   Linear Regression  Decision Tree  Random Forest  Gradient Boosting\n",
       "0         203.334267     495.031512     136.129991         130.541326"
      ]
     },
     "execution_count": 39,
     "metadata": {},
     "output_type": "execute_result"
    }
   ],
   "source": [
    "# Adding to the Dataframe for scores\n",
    "df_score[\"Gradient Boosting\"] = [rmse]\n",
    "df_score"
   ]
  },
  {
   "cell_type": "markdown",
   "id": "4ba00831-7fc7-4191-8e8b-2c55f7f1f4f4",
   "metadata": {},
   "source": [
    "#### The models so far have given a good score. We will try to rework the models by using the initial values as numerical instead of categoricals, to check if the scores improve."
   ]
  },
  {
   "cell_type": "code",
   "execution_count": 41,
   "id": "16a740f7-b97c-4759-8f2d-caee84188199",
   "metadata": {},
   "outputs": [],
   "source": [
    "df = pd.read_csv(r'C:\\Users\\borrasai\\Documents\\airbnb_train_dataset.csv')\n",
    "df['room_type'] = pd.Categorical(df.room_type)\n",
    "\n",
    "df = pd.get_dummies(df)\n",
    "\n",
    "X = df.drop(['price'],axis=1)\n",
    "y = df['price']\n",
    "\n",
    "X_train, X_test, y_train, y_test = train_test_split(X, y, test_size=0.25, random_state=42)"
   ]
  },
  {
   "cell_type": "markdown",
   "id": "38abee44-582e-45f2-8595-8a622f00d656",
   "metadata": {},
   "source": [
    "## Linear Regression"
   ]
  },
  {
   "cell_type": "code",
   "execution_count": 42,
   "id": "87296aad-3ea4-4d60-8c66-b9f147061859",
   "metadata": {},
   "outputs": [
    {
     "data": {
      "text/plain": [
       "123.57140782539223"
      ]
     },
     "execution_count": 42,
     "metadata": {},
     "output_type": "execute_result"
    }
   ],
   "source": [
    "reg = LinearRegression()\n",
    "model = reg.fit(X_train, y_train)\n",
    "model.score(X_train, y_train)\n",
    "predicted = model.predict(X_test)\n",
    "\n",
    "# Calculating the RMSE\n",
    "mse = mean_squared_error(y_test, predicted)\n",
    "mse\n",
    "\n",
    "rmse = sqrt(mse)\n",
    "rmse"
   ]
  },
  {
   "cell_type": "code",
   "execution_count": 44,
   "id": "096a9d4e-8b48-47ee-a5da-2f46bf8b2cd7",
   "metadata": {},
   "outputs": [
    {
     "data": {
      "text/html": [
       "<div>\n",
       "<style scoped>\n",
       "    .dataframe tbody tr th:only-of-type {\n",
       "        vertical-align: middle;\n",
       "    }\n",
       "\n",
       "    .dataframe tbody tr th {\n",
       "        vertical-align: top;\n",
       "    }\n",
       "\n",
       "    .dataframe thead th {\n",
       "        text-align: right;\n",
       "    }\n",
       "</style>\n",
       "<table border=\"1\" class=\"dataframe\">\n",
       "  <thead>\n",
       "    <tr style=\"text-align: right;\">\n",
       "      <th></th>\n",
       "      <th>Linear Regression</th>\n",
       "      <th>Decision Tree</th>\n",
       "      <th>Random Forest</th>\n",
       "      <th>Gradient Boosting</th>\n",
       "    </tr>\n",
       "  </thead>\n",
       "  <tbody>\n",
       "    <tr>\n",
       "      <th>0</th>\n",
       "      <td>203.334267</td>\n",
       "      <td>495.031512</td>\n",
       "      <td>136.129991</td>\n",
       "      <td>130.541326</td>\n",
       "    </tr>\n",
       "    <tr>\n",
       "      <th>1</th>\n",
       "      <td>123.571408</td>\n",
       "      <td>0.000000</td>\n",
       "      <td>0.000000</td>\n",
       "      <td>0.000000</td>\n",
       "    </tr>\n",
       "  </tbody>\n",
       "</table>\n",
       "</div>"
      ],
      "text/plain": [
       "   Linear Regression  Decision Tree  Random Forest  Gradient Boosting\n",
       "0         203.334267     495.031512     136.129991         130.541326\n",
       "1         123.571408       0.000000       0.000000           0.000000"
      ]
     },
     "execution_count": 44,
     "metadata": {},
     "output_type": "execute_result"
    }
   ],
   "source": [
    "# Appending to our score df\n",
    "df_score.loc[1] = [0,0,0,0]\n",
    "df_score.iloc[1,0] = rmse\n",
    "df_score"
   ]
  },
  {
   "cell_type": "markdown",
   "id": "82567c09-e18e-4044-990e-e859dead5dd8",
   "metadata": {},
   "source": [
    "## Decision Tree Regressor"
   ]
  },
  {
   "cell_type": "code",
   "execution_count": 45,
   "id": "d7a6d9b5-b783-4c32-9d99-58aeff16ff10",
   "metadata": {},
   "outputs": [
    {
     "data": {
      "text/plain": [
       "512.9431153807732"
      ]
     },
     "execution_count": 45,
     "metadata": {},
     "output_type": "execute_result"
    }
   ],
   "source": [
    "regressor = DecisionTreeRegressor(random_state=0)\n",
    "model = regressor.fit(X_train, y_train)\n",
    "\n",
    "# Getting the predictions\n",
    "predicted = model.predict(X_test)\n",
    "\n",
    "# Calculating the RMSE\n",
    "mse = mean_squared_error(y_test, predicted)\n",
    "mse\n",
    "\n",
    "rmse = sqrt(mse)\n",
    "rmse"
   ]
  },
  {
   "cell_type": "code",
   "execution_count": 46,
   "id": "41a2d8fd-01af-4372-8fbd-006c93fad789",
   "metadata": {},
   "outputs": [
    {
     "data": {
      "text/html": [
       "<div>\n",
       "<style scoped>\n",
       "    .dataframe tbody tr th:only-of-type {\n",
       "        vertical-align: middle;\n",
       "    }\n",
       "\n",
       "    .dataframe tbody tr th {\n",
       "        vertical-align: top;\n",
       "    }\n",
       "\n",
       "    .dataframe thead th {\n",
       "        text-align: right;\n",
       "    }\n",
       "</style>\n",
       "<table border=\"1\" class=\"dataframe\">\n",
       "  <thead>\n",
       "    <tr style=\"text-align: right;\">\n",
       "      <th></th>\n",
       "      <th>Linear Regression</th>\n",
       "      <th>Decision Tree</th>\n",
       "      <th>Random Forest</th>\n",
       "      <th>Gradient Boosting</th>\n",
       "    </tr>\n",
       "  </thead>\n",
       "  <tbody>\n",
       "    <tr>\n",
       "      <th>0</th>\n",
       "      <td>203.334267</td>\n",
       "      <td>495.031512</td>\n",
       "      <td>136.129991</td>\n",
       "      <td>130.541326</td>\n",
       "    </tr>\n",
       "    <tr>\n",
       "      <th>1</th>\n",
       "      <td>123.571408</td>\n",
       "      <td>512.943115</td>\n",
       "      <td>0.000000</td>\n",
       "      <td>0.000000</td>\n",
       "    </tr>\n",
       "  </tbody>\n",
       "</table>\n",
       "</div>"
      ],
      "text/plain": [
       "   Linear Regression  Decision Tree  Random Forest  Gradient Boosting\n",
       "0         203.334267     495.031512     136.129991         130.541326\n",
       "1         123.571408     512.943115       0.000000           0.000000"
      ]
     },
     "execution_count": 46,
     "metadata": {},
     "output_type": "execute_result"
    }
   ],
   "source": [
    "# Updating the score sheet\n",
    "df_score.iloc[1,1] = rmse\n",
    "df_score"
   ]
  },
  {
   "cell_type": "markdown",
   "id": "118c92ac-f156-4e5c-9ff5-58888369395e",
   "metadata": {},
   "source": [
    "## Random Forest Regressor\n",
    "\n"
   ]
  },
  {
   "cell_type": "code",
   "execution_count": 47,
   "id": "526d4295-9059-4ab7-9d06-3511c06ed629",
   "metadata": {},
   "outputs": [
    {
     "data": {
      "text/plain": [
       "146.2019725594644"
      ]
     },
     "execution_count": 47,
     "metadata": {},
     "output_type": "execute_result"
    }
   ],
   "source": [
    "regr = RandomForestRegressor(max_depth=2, random_state=0)\n",
    "model = regr.fit(X_train, y_train)\n",
    "\n",
    "# Getting the predictions\n",
    "predicted = model.predict(X_test)\n",
    "\n",
    "# Calculating the RMSE\n",
    "\n",
    "mse = mean_squared_error(y_test, predicted)\n",
    "mse\n",
    "\n",
    "rmse = sqrt(mse)\n",
    "rmse"
   ]
  },
  {
   "cell_type": "code",
   "execution_count": 48,
   "id": "979d45d5-9e15-4792-b02e-5a65b0e8d3e3",
   "metadata": {},
   "outputs": [
    {
     "data": {
      "text/html": [
       "<div>\n",
       "<style scoped>\n",
       "    .dataframe tbody tr th:only-of-type {\n",
       "        vertical-align: middle;\n",
       "    }\n",
       "\n",
       "    .dataframe tbody tr th {\n",
       "        vertical-align: top;\n",
       "    }\n",
       "\n",
       "    .dataframe thead th {\n",
       "        text-align: right;\n",
       "    }\n",
       "</style>\n",
       "<table border=\"1\" class=\"dataframe\">\n",
       "  <thead>\n",
       "    <tr style=\"text-align: right;\">\n",
       "      <th></th>\n",
       "      <th>Linear Regression</th>\n",
       "      <th>Decision Tree</th>\n",
       "      <th>Random Forest</th>\n",
       "      <th>Gradient Boosting</th>\n",
       "    </tr>\n",
       "  </thead>\n",
       "  <tbody>\n",
       "    <tr>\n",
       "      <th>0</th>\n",
       "      <td>203.334267</td>\n",
       "      <td>495.031512</td>\n",
       "      <td>136.129991</td>\n",
       "      <td>130.541326</td>\n",
       "    </tr>\n",
       "    <tr>\n",
       "      <th>1</th>\n",
       "      <td>123.571408</td>\n",
       "      <td>512.943115</td>\n",
       "      <td>146.201973</td>\n",
       "      <td>0.000000</td>\n",
       "    </tr>\n",
       "  </tbody>\n",
       "</table>\n",
       "</div>"
      ],
      "text/plain": [
       "   Linear Regression  Decision Tree  Random Forest  Gradient Boosting\n",
       "0         203.334267     495.031512     136.129991         130.541326\n",
       "1         123.571408     512.943115     146.201973           0.000000"
      ]
     },
     "execution_count": 48,
     "metadata": {},
     "output_type": "execute_result"
    }
   ],
   "source": [
    "# Updating the score sheet\n",
    "df_score.iloc[1,2] = rmse\n",
    "df_score"
   ]
  },
  {
   "cell_type": "markdown",
   "id": "449cd32a-828b-4b92-9e51-fba6115ee5e2",
   "metadata": {},
   "source": [
    "## Gradient Boosting Regressor"
   ]
  },
  {
   "cell_type": "code",
   "execution_count": 49,
   "id": "bf101f66-3c0e-4b89-8013-6f661af9133d",
   "metadata": {},
   "outputs": [
    {
     "data": {
      "text/plain": [
       "161.77259521722635"
      ]
     },
     "execution_count": 49,
     "metadata": {},
     "output_type": "execute_result"
    }
   ],
   "source": [
    "reg = GradientBoostingRegressor(random_state=0)\n",
    "model = reg.fit(X_train, y_train)\n",
    "\n",
    "# Getting the predictions\n",
    "predicted = model.predict(X_test)\n",
    "\n",
    "# Calculating the RMSE\n",
    "\n",
    "mse = mean_squared_error(y_test, predicted)\n",
    "mse\n",
    "\n",
    "rmse = sqrt(mse)\n",
    "rmse"
   ]
  },
  {
   "cell_type": "code",
   "execution_count": 50,
   "id": "5072074e-79e3-4e0f-8fdd-2025ee088dd0",
   "metadata": {},
   "outputs": [
    {
     "data": {
      "text/html": [
       "<div>\n",
       "<style scoped>\n",
       "    .dataframe tbody tr th:only-of-type {\n",
       "        vertical-align: middle;\n",
       "    }\n",
       "\n",
       "    .dataframe tbody tr th {\n",
       "        vertical-align: top;\n",
       "    }\n",
       "\n",
       "    .dataframe thead th {\n",
       "        text-align: right;\n",
       "    }\n",
       "</style>\n",
       "<table border=\"1\" class=\"dataframe\">\n",
       "  <thead>\n",
       "    <tr style=\"text-align: right;\">\n",
       "      <th></th>\n",
       "      <th>Linear Regression</th>\n",
       "      <th>Decision Tree</th>\n",
       "      <th>Random Forest</th>\n",
       "      <th>Gradient Boosting</th>\n",
       "    </tr>\n",
       "  </thead>\n",
       "  <tbody>\n",
       "    <tr>\n",
       "      <th>0</th>\n",
       "      <td>203.334267</td>\n",
       "      <td>495.031512</td>\n",
       "      <td>136.129991</td>\n",
       "      <td>130.541326</td>\n",
       "    </tr>\n",
       "    <tr>\n",
       "      <th>1</th>\n",
       "      <td>123.571408</td>\n",
       "      <td>512.943115</td>\n",
       "      <td>146.201973</td>\n",
       "      <td>161.772595</td>\n",
       "    </tr>\n",
       "  </tbody>\n",
       "</table>\n",
       "</div>"
      ],
      "text/plain": [
       "   Linear Regression  Decision Tree  Random Forest  Gradient Boosting\n",
       "0         203.334267     495.031512     136.129991         130.541326\n",
       "1         123.571408     512.943115     146.201973         161.772595"
      ]
     },
     "execution_count": 50,
     "metadata": {},
     "output_type": "execute_result"
    }
   ],
   "source": [
    "# Updating the score sheet\n",
    "df_score.iloc[1,3] = rmse\n",
    "df_score"
   ]
  },
  {
   "cell_type": "markdown",
   "id": "e32c5d0f-41db-438e-9355-e7f5b7cd0964",
   "metadata": {},
   "source": [
    "#### Post reverting the data back to numeric, we have observed a drop in the error for Linear Regression model. However, error in remaining models have spiked."
   ]
  },
  {
   "cell_type": "code",
   "execution_count": 51,
   "id": "5c6d55f5-85aa-498e-bc1b-3d5417e428e4",
   "metadata": {},
   "outputs": [
    {
     "data": {
      "text/plain": [
       "<AxesSubplot:>"
      ]
     },
     "execution_count": 51,
     "metadata": {},
     "output_type": "execute_result"
    },
    {
     "data": {
      "image/png": "[encoded data removed]",
      "text/plain": [
       "<Figure size 432x288 with 1 Axes>"
      ]
     },
     "metadata": {
      "needs_background": "light"
     },
     "output_type": "display_data"
    }
   ],
   "source": [
    "df_score.plot()"
   ]
  },
  {
   "cell_type": "code",
   "execution_count": null,
   "id": "1ff597c8-cdcf-47b6-a098-129b9ad54b0e",
   "metadata": {},
   "outputs": [],
   "source": []
  }
 ],
 "metadata": {
  "kernelspec": {
   "display_name": "Python 3 (ipykernel)",
   "language": "python",
   "name": "python3"
  },
  "language_info": {
   "codemirror_mode": {
    "name": "ipython",
    "version": 3
   },
   "file_extension": ".py",
   "mimetype": "text/x-python",
   "name": "python",
   "nbconvert_exporter": "python",
   "pygments_lexer": "ipython3",
   "version": "3.9.7"
  }
 },
 "nbformat": 4,
 "nbformat_minor": 5
}
